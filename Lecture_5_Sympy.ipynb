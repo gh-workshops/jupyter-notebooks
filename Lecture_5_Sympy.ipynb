{
 "metadata": {
  "name": "Lecture-5-Sympy"
 },
 "nbformat": 3,
 "nbformat_minor": 0,
 "worksheets": [
  {
   "cells": [
    {
     "cell_type": "markdown",
     "metadata": {},
     "source": [
      "# Sympy - Symbolic algebra in Python\n",
      "\n",
      "J.R. Johansson (robert@riken.jp) http://dml.riken.jp/~rob/\n",
      "\n",
      "The latest version of this [IPython notebook](http://ipython.org/ipython-doc/dev/interactive/htmlnotebook.html) lecture is available at [http://github.com/jrjohansson/scientific-python-lectures](http://github.com/jrjohansson/scientific-python-lectures).\n",
      "\n",
      "The other notebooks in this lecture series are indexed at [http://jrjohansson.github.com](http://jrjohansson.github.com)."
     ]
    },
    {
     "cell_type": "code",
     "collapsed": false,
     "input": [
      "%pylab inline"
     ],
     "language": "python",
     "metadata": {},
     "outputs": [
      {
       "output_type": "stream",
       "stream": "stdout",
       "text": [
        "\n",
        "Welcome to pylab, a matplotlib-based Python environment [backend: module://IPython.zmq.pylab.backend_inline].\n",
        "For more information, type 'help(pylab)'.\n"
       ]
      }
     ],
     "prompt_number": 1
    },
    {
     "cell_type": "markdown",
     "metadata": {},
     "source": [
      "## Introduction\n",
      "\n",
      "There are two notable Computer Algebra Systems (CAS) for Python:\n",
      "\n",
      "* [SymPy](http://sympy.org/en/index.html) - A python module that can be used in any Python program, or in an IPython session, that provides powerful CAS features. \n",
      "* [Sage](http://www.sagemath.org/) - Sage is a full-featured and very power CAS enviroment that aims to provide an open source system that competes with Mathematica and Maple. Sage is not a regular Python module, but rather a CAS environment that use Python as programming language.\n",
      "\n",
      "Sage is in some aspects more powerful than SymPy, but both offer very comprehensive CAS functionality. The advantage of SymPy is that it is a regular Python module and integrates well with the IPython notebook. \n",
      "\n",
      "In this lecture we will therefore look at how to use SymPy with IPython notebooks. If you are interested in open source CAS environment I also recommend to read more about Sage.\n",
      "\n",
      "To get start using SymPy in a Python program or notebook, import the module `sympy`:"
     ]
    },
    {
     "cell_type": "code",
     "collapsed": false,
     "input": [
      "from sympy import *"
     ],
     "language": "python",
     "metadata": {},
     "outputs": [],
     "prompt_number": 2
    },
    {
     "cell_type": "markdown",
     "metadata": {},
     "source": [
      "To get nice-looking $\\LaTeX$ formatted output:"
     ]
    },
    {
     "cell_type": "code",
     "collapsed": false,
     "input": [
      "# commands starting with % are IPython commands\n",
      "from sympy import init_printing\n",
      "init_printing(use_latex=True)\n"
     ],
     "language": "python",
     "metadata": {},
     "outputs": [],
     "prompt_number": 3
    },
    {
     "cell_type": "markdown",
     "metadata": {},
     "source": [
      "## Symbolic variables\n",
      "\n",
      "In SymPy we need to create symbols for the variables we want to work with. We can create a new symbol using the `Symbol` class:"
     ]
    },
    {
     "cell_type": "code",
     "collapsed": false,
     "input": [
      "x = Symbol('x')"
     ],
     "language": "python",
     "metadata": {},
     "outputs": [],
     "prompt_number": 4
    },
    {
     "cell_type": "code",
     "collapsed": false,
     "input": [
      "(pi + x)**2"
     ],
     "language": "python",
     "metadata": {},
     "outputs": [
      {
       "latex": [
        "$$\\left(x + \\pi\\right)^{2}$$"
       ],
       "output_type": "pyout",
       "png": "[encoded data removed]",
       "prompt_number": 5,
       "text": [
        "\n",
        "       2\n",
        "(x + \u03c0) "
       ]
      }
     ],
     "prompt_number": 5
    },
    {
     "cell_type": "code",
     "collapsed": false,
     "input": [
      "# alternative way of defining symbols\n",
      "a, b, c = symbols(\"a, b, c\")"
     ],
     "language": "python",
     "metadata": {},
     "outputs": [],
     "prompt_number": 6
    },
    {
     "cell_type": "code",
     "collapsed": false,
     "input": [
      "type(a)"
     ],
     "language": "python",
     "metadata": {},
     "outputs": [
      {
       "output_type": "pyout",
       "prompt_number": 7,
       "text": [
        "sympy.core.symbol.Symbol"
       ]
      }
     ],
     "prompt_number": 7
    },
    {
     "cell_type": "markdown",
     "metadata": {},
     "source": [
      "We can add assumptions to symbols when we create them:"
     ]
    },
    {
     "cell_type": "code",
     "collapsed": false,
     "input": [
      "x = Symbol('x', real=True)"
     ],
     "language": "python",
     "metadata": {},
     "outputs": [],
     "prompt_number": 8
    },
    {
     "cell_type": "code",
     "collapsed": false,
     "input": [
      "x.is_imaginary"
     ],
     "language": "python",
     "metadata": {},
     "outputs": [
      {
       "output_type": "pyout",
       "png": "[encoded data removed]",
       "prompt_number": 9,
       "text": [
        "False"
       ]
      }
     ],
     "prompt_number": 9
    },
    {
     "cell_type": "code",
     "collapsed": false,
     "input": [
      "x = Symbol('x', positive=True)"
     ],
     "language": "python",
     "metadata": {},
     "outputs": [],
     "prompt_number": 10
    },
    {
     "cell_type": "code",
     "collapsed": false,
     "input": [
      "x > 0"
     ],
     "language": "python",
     "metadata": {},
     "outputs": [
      {
       "output_type": "pyout",
       "png": "[encoded data removed]",
       "prompt_number": 11,
       "text": [
        "True"
       ]
      }
     ],
     "prompt_number": 11
    },
    {
     "cell_type": "markdown",
     "metadata": {},
     "source": [
      "### Complex numbers\n",
      "\n",
      "The imaginary unit is denoted `I` in Sympy. "
     ]
    },
    {
     "cell_type": "code",
     "collapsed": false,
     "input": [
      "1+1*I"
     ],
     "language": "python",
     "metadata": {},
     "outputs": [
      {
       "latex": [
        "$$1 + \\mathbf{\\imath}$$"
       ],
       "output_type": "pyout",
       "png": "[encoded data removed]",
       "prompt_number": 12,
       "text": [
        "1 + \u2148"
       ]
      }
     ],
     "prompt_number": 12
    },
    {
     "cell_type": "code",
     "collapsed": false,
     "input": [
      "I**2"
     ],
     "language": "python",
     "metadata": {},
     "outputs": [
      {
       "latex": [
        "$$-1$$"
       ],
       "output_type": "pyout",
       "png": "[encoded data removed]",
       "prompt_number": 13,
       "text": [
        "-1"
       ]
      }
     ],
     "prompt_number": 13
    },
    {
     "cell_type": "code",
     "collapsed": false,
     "input": [
      "(x * I + 1)**2"
     ],
     "language": "python",
     "metadata": {},
     "outputs": [
      {
       "latex": [
        "$$\\left(\\mathbf{\\imath} x + 1\\right)^{2}$$"
       ],
       "output_type": "pyout",
       "png": "[encoded data removed]",
       "prompt_number": 14,
       "text": [
        "\n",
        "         2\n",
        "(\u2148\u22c5x + 1) "
       ]
      }
     ],
     "prompt_number": 14
    },
    {
     "cell_type": "markdown",
     "metadata": {},
     "source": [
      "### Rational numbers\n",
      "\n",
      "There are three different numerical types in SymPy: `Real`, `Rational`, `Integer`: "
     ]
    },
    {
     "cell_type": "code",
     "collapsed": false,
     "input": [
      "r1 = Rational(4,5)\n",
      "r2 = Rational(5,4)"
     ],
     "language": "python",
     "metadata": {},
     "outputs": [],
     "prompt_number": 15
    },
    {
     "cell_type": "code",
     "collapsed": false,
     "input": [
      "r1"
     ],
     "language": "python",
     "metadata": {},
     "outputs": [
      {
       "latex": [
        "$$\\frac{4}{5}$$"
       ],
       "output_type": "pyout",
       "png": "[encoded data removed]",
       "prompt_number": 16,
       "text": [
        "4/5"
       ]
      }
     ],
     "prompt_number": 16
    },
    {
     "cell_type": "code",
     "collapsed": false,
     "input": [
      "r1+r2"
     ],
     "language": "python",
     "metadata": {},
     "outputs": [
      {
       "latex": [
        "$$\\frac{41}{20}$$"
       ],
       "output_type": "pyout",
       "png": "[encoded data removed]",
       "prompt_number": 17,
       "text": [
        "\n",
        "41\n",
        "\u2500\u2500\n",
        "20"
       ]
      }
     ],
     "prompt_number": 17
    },
    {
     "cell_type": "code",
     "collapsed": false,
     "input": [
      "r1/r2"
     ],
     "language": "python",
     "metadata": {},
     "outputs": [
      {
       "latex": [
        "$$\\frac{16}{25}$$"
       ],
       "output_type": "pyout",
       "png": "[encoded data removed]",
       "prompt_number": 18,
       "text": [
        "\n",
        "16\n",
        "\u2500\u2500\n",
        "25"
       ]
      }
     ],
     "prompt_number": 18
    },
    {
     "cell_type": "markdown",
     "metadata": {},
     "source": [
      "### Numerical evaluation\n",
      "\n",
      "SymPy uses a library for artitrary precision as numerical backend, and has predefined SymPy expressions for a number of mathematical constants, such as: `pi`, `e`, `oo` for infinity.\n",
      "\n",
      "To evaluate an expression numerically we can use the `evalf` function (or `N`). It takes an argument `n` which specifies the number of significant digits."
     ]
    },
    {
     "cell_type": "code",
     "collapsed": false,
     "input": [
      "pi.evalf(n=50)"
     ],
     "language": "python",
     "metadata": {},
     "outputs": [
      {
       "latex": [
        "$$3.1415926535897932384626433832795028841971693993751$$"
       ],
       "output_type": "pyout",
       "png": "[encoded data removed]",
       "prompt_number": 19,
       "text": [
        "3.1415926535897932384626433832795028841971693993751"
       ]
      }
     ],
     "prompt_number": 19
    },
    {
     "cell_type": "code",
     "collapsed": false,
     "input": [
      "y = (x + pi)**2"
     ],
     "language": "python",
     "metadata": {},
     "outputs": [],
     "prompt_number": 20
    },
    {
     "cell_type": "code",
     "collapsed": false,
     "input": [
      "N(y, 5) # same as evalf"
     ],
     "language": "python",
     "metadata": {},
     "outputs": [
      {
       "latex": [
        "$$x^{2} + 6.2832 x + 9.8696$$"
       ],
       "output_type": "pyout",
       "png": "[encoded data removed]",
       "prompt_number": 21,
       "text": [
        "\n",
        " 2                    \n",
        "x  + 6.2832\u22c5x + 9.8696"
       ]
      }
     ],
     "prompt_number": 21
    },
    {
     "cell_type": "markdown",
     "metadata": {},
     "source": [
      "When we numerically evaluate algebraic expressions we often want to substitute a symbol with a numerical value. In SymPy we do that using the `subs` function:"
     ]
    },
    {
     "cell_type": "code",
     "collapsed": false,
     "input": [
      "y.subs(x, 1.5)"
     ],
     "language": "python",
     "metadata": {},
     "outputs": [
      {
       "latex": [
        "$$\\left(1.5 + \\pi\\right)^{2}$$"
       ],
       "output_type": "pyout",
       "png": "[encoded data removed]",
       "prompt_number": 22,
       "text": [
        "\n",
        "         2\n",
        "(1.5 + \u03c0) "
       ]
      }
     ],
     "prompt_number": 22
    },
    {
     "cell_type": "code",
     "collapsed": false,
     "input": [
      "N(y.subs(x, 1.5))"
     ],
     "language": "python",
     "metadata": {},
     "outputs": [
      {
       "latex": [
        "$$21.5443823618587$$"
       ],
       "output_type": "pyout",
       "png": "[encoded data removed]",
       "prompt_number": 23,
       "text": [
        "21.5443823618587"
       ]
      }
     ],
     "prompt_number": 23
    },
    {
     "cell_type": "markdown",
     "metadata": {},
     "source": [
      "The `subs` function can of course also be used to substitute Symbols and expressions:"
     ]
    },
    {
     "cell_type": "code",
     "collapsed": false,
     "input": [
      "y.subs(x, a+pi)"
     ],
     "language": "python",
     "metadata": {},
     "outputs": [
      {
       "latex": [
        "$$\\left(a + 2 \\pi\\right)^{2}$$"
       ],
       "output_type": "pyout",
       "png": "[encoded data removed]",
       "prompt_number": 24,
       "text": [
        "\n",
        "         2\n",
        "(a + 2\u22c5\u03c0) "
       ]
      }
     ],
     "prompt_number": 24
    },
    {
     "cell_type": "markdown",
     "metadata": {},
     "source": [
      "We can also combine numerical evolution of expressions with NumPy arrays:"
     ]
    },
    {
     "cell_type": "code",
     "collapsed": false,
     "input": [
      "import numpy"
     ],
     "language": "python",
     "metadata": {},
     "outputs": [],
     "prompt_number": 25
    },
    {
     "cell_type": "code",
     "collapsed": false,
     "input": [
      "x_vec = numpy.arange(0, 10, 0.1)\n",
      "y_vec = numpy.array([N(((x + pi)**2).subs(x, xx)) for xx in x_vec])"
     ],
     "language": "python",
     "metadata": {},
     "outputs": [],
     "prompt_number": 26
    },
    {
     "cell_type": "code",
     "collapsed": false,
     "input": [
      "fig, ax = subplots()\n",
      "ax.plot(x_vec, y_vec);"
     ],
     "language": "python",
     "metadata": {},
     "outputs": [
      {
       "output_type": "display_data",
       "png": "[encoded data removed]"
      }
     ],
     "prompt_number": 27
    },
    {
     "cell_type": "markdown",
     "metadata": {},
     "source": [
      "## Algebraic manipulations\n",
      "\n",
      "One of the main uses of an CAS is to perform algebraic manipulations of expressions. For example, we might want to expand a product, factor an expression, or simply an expression. The functions for doing these basic operations in SymPy are demonstrated in this section."
     ]
    },
    {
     "cell_type": "markdown",
     "metadata": {},
     "source": [
      "### Expand and factor\n",
      "\n",
      "The first steps in an algebraic manipulation "
     ]
    },
    {
     "cell_type": "code",
     "collapsed": false,
     "input": [
      "(x+1)*(x+2)*(x+3)"
     ],
     "language": "python",
     "metadata": {},
     "outputs": [
      {
       "latex": [
        "$$\\left(x + 1\\right) \\left(x + 2\\right) \\left(x + 3\\right)$$"
       ],
       "output_type": "pyout",
       "png": "[encoded data removed]",
       "prompt_number": 28,
       "text": [
        "(x + 1)\u22c5(x + 2)\u22c5(x + 3)"
       ]
      }
     ],
     "prompt_number": 28
    },
    {
     "cell_type": "code",
     "collapsed": false,
     "input": [
      "expand((x+1)*(x+2)*(x+3))"
     ],
     "language": "python",
     "metadata": {},
     "outputs": [
      {
       "latex": [
        "$$x^{3} + 6 x^{2} + 11 x + 6$$"
       ],
       "output_type": "pyout",
       "png": "[encoded data removed]",
       "prompt_number": 29,
       "text": [
        "\n",
        " 3      2           \n",
        "x  + 6\u22c5x  + 11\u22c5x + 6"
       ]
      }
     ],
     "prompt_number": 29
    },
    {
     "cell_type": "markdown",
     "metadata": {},
     "source": [
      "The `expand` function takes a number of keywords arguments which we can tell the functions what kind of expansions we want to have performed. For example, to expand trigonometric expressions, use the `trig=True` keyword argument:"
     ]
    },
    {
     "cell_type": "code",
     "collapsed": false,
     "input": [
      "sin(a+b)"
     ],
     "language": "python",
     "metadata": {},
     "outputs": [
      {
       "latex": [
        "$$\\operatorname{sin}\\left(a + b\\right)$$"
       ],
       "output_type": "pyout",
       "png": "[encoded data removed]",
       "prompt_number": 30,
       "text": [
        "sin(a + b)"
       ]
      }
     ],
     "prompt_number": 30
    },
    {
     "cell_type": "code",
     "collapsed": false,
     "input": [
      "expand(sin(a+b), trig=True)"
     ],
     "language": "python",
     "metadata": {},
     "outputs": [
      {
       "latex": [
        "$$\\operatorname{sin}\\left(a\\right) \\operatorname{cos}\\left(b\\right) + \\operatorname{sin}\\left(b\\right) \\operatorname{cos}\\left(a\\right)$$"
       ],
       "output_type": "pyout",
       "png": "[encoded data removed]",
       "prompt_number": 31,
       "text": [
        "sin(a)\u22c5cos(b) + sin(b)\u22c5cos(a)"
       ]
      }
     ],
     "prompt_number": 31
    },
    {
     "cell_type": "markdown",
     "metadata": {},
     "source": [
      "See `help(expand)` for a detailed explanation of the various types of expansions the `expand` functions can perform."
     ]
    },
    {
     "cell_type": "markdown",
     "metadata": {},
     "source": [
      "The opposite a product expansion is of course factoring. The factor an expression in SymPy use the `factor` function: "
     ]
    },
    {
     "cell_type": "code",
     "collapsed": false,
     "input": [
      "factor(x**3 + 6 * x**2 + 11*x + 6)"
     ],
     "language": "python",
     "metadata": {},
     "outputs": [
      {
       "latex": [
        "$$\\left(x + 1\\right) \\left(x + 2\\right) \\left(x + 3\\right)$$"
       ],
       "output_type": "pyout",
       "png": "[encoded data removed]",
       "prompt_number": 32,
       "text": [
        "(x + 1)\u22c5(x + 2)\u22c5(x + 3)"
       ]
      }
     ],
     "prompt_number": 32
    },
    {
     "cell_type": "markdown",
     "metadata": {},
     "source": [
      "### Simplify\n",
      "\n",
      "The `simplify` tries to simplify an expression into a nice looking expression, using various techniques. More specific alternatives to the `simplify` functions also exists: `trigsimp`, `powsimp`, `logcombine`, etc. \n",
      "\n",
      "The basic usages of these functions are as follows:"
     ]
    },
    {
     "cell_type": "code",
     "collapsed": false,
     "input": [
      "# simplify expands a product\n",
      "simplify((x+1)*(x+2)*(x+3))"
     ],
     "language": "python",
     "metadata": {},
     "outputs": [
      {
       "latex": [
        "$$x^{3} + 6 x^{2} + 11 x + 6$$"
       ],
       "output_type": "pyout",
       "png": "[encoded data removed]",
       "prompt_number": 33,
       "text": [
        "\n",
        " 3      2           \n",
        "x  + 6\u22c5x  + 11\u22c5x + 6"
       ]
      }
     ],
     "prompt_number": 33
    },
    {
     "cell_type": "code",
     "collapsed": false,
     "input": [
      "# simplify uses trigonometric identities\n",
      "simplify(sin(a)**2 + cos(a)**2)"
     ],
     "language": "python",
     "metadata": {},
     "outputs": [
      {
       "latex": [
        "$$1$$"
       ],
       "output_type": "pyout",
       "png": "[encoded data removed]",
       "prompt_number": 34,
       "text": [
        "1"
       ]
      }
     ],
     "prompt_number": 34
    },
    {
     "cell_type": "code",
     "collapsed": false,
     "input": [
      "simplify(cos(x)/sin(x))"
     ],
     "language": "python",
     "metadata": {},
     "outputs": [
      {
       "latex": [
        "$$\\operatorname{tan}^{-1}\\left(x\\right)$$"
       ],
       "output_type": "pyout",
       "png": "[encoded data removed]",
       "prompt_number": 35,
       "text": [
        "\n",
        "  1   \n",
        "\u2500\u2500\u2500\u2500\u2500\u2500\n",
        "tan(x)"
       ]
      }
     ],
     "prompt_number": 35
    },
    {
     "cell_type": "markdown",
     "metadata": {},
     "source": [
      "## apart and together\n",
      "\n",
      "To manipulate symbolic expressions of fractions, we can the `apart` and `together` functions:"
     ]
    },
    {
     "cell_type": "code",
     "collapsed": false,
     "input": [
      "f1 = 1/((a+1)*(a+2))"
     ],
     "language": "python",
     "metadata": {},
     "outputs": [],
     "prompt_number": 36
    },
    {
     "cell_type": "code",
     "collapsed": false,
     "input": [
      "f1"
     ],
     "language": "python",
     "metadata": {},
     "outputs": [
      {
       "latex": [
        "$$\\frac{1}{\\left(a + 1\\right) \\left(a + 2\\right)}$$"
       ],
       "output_type": "pyout",
       "png": "[encoded data removed]",
       "prompt_number": 37,
       "text": [
        "\n",
        "       1       \n",
        "\u2500\u2500\u2500\u2500\u2500\u2500\u2500\u2500\u2500\u2500\u2500\u2500\u2500\u2500\u2500\n",
        "(a + 1)\u22c5(a + 2)"
       ]
      }
     ],
     "prompt_number": 37
    },
    {
     "cell_type": "code",
     "collapsed": false,
     "input": [
      "apart(f1)"
     ],
     "language": "python",
     "metadata": {},
     "outputs": [
      {
       "latex": [
        "$$- \\frac{1}{a + 2} + \\frac{1}{a + 1}$$"
       ],
       "output_type": "pyout",
       "png": "[encoded data removed]",
       "prompt_number": 38,
       "text": [
        "\n",
        "    1       1  \n",
        "- \u2500\u2500\u2500\u2500\u2500 + \u2500\u2500\u2500\u2500\u2500\n",
        "  a + 2   a + 1"
       ]
      }
     ],
     "prompt_number": 38
    },
    {
     "cell_type": "code",
     "collapsed": false,
     "input": [
      "f2 = 1/(a+2) + 1/(a+3)"
     ],
     "language": "python",
     "metadata": {},
     "outputs": [],
     "prompt_number": 39
    },
    {
     "cell_type": "code",
     "collapsed": false,
     "input": [
      "f2"
     ],
     "language": "python",
     "metadata": {},
     "outputs": [
      {
       "latex": [
        "$$\\frac{1}{a + 3} + \\frac{1}{a + 2}$$"
       ],
       "output_type": "pyout",
       "png": "[encoded data removed]",
       "prompt_number": 40,
       "text": [
        "\n",
        "  1       1  \n",
        "\u2500\u2500\u2500\u2500\u2500 + \u2500\u2500\u2500\u2500\u2500\n",
        "a + 3   a + 2"
       ]
      }
     ],
     "prompt_number": 40
    },
    {
     "cell_type": "code",
     "collapsed": false,
     "input": [
      "together(f2)"
     ],
     "language": "python",
     "metadata": {},
     "outputs": [
      {
       "latex": [
        "$$\\frac{2 a + 5}{\\left(a + 2\\right) \\left(a + 3\\right)}$$"
       ],
       "output_type": "pyout",
       "png": "[encoded data removed]",
       "prompt_number": 41,
       "text": [
        "\n",
        "    2\u22c5a + 5    \n",
        "\u2500\u2500\u2500\u2500\u2500\u2500\u2500\u2500\u2500\u2500\u2500\u2500\u2500\u2500\u2500\n",
        "(a + 2)\u22c5(a + 3)"
       ]
      }
     ],
     "prompt_number": 41
    },
    {
     "cell_type": "markdown",
     "metadata": {},
     "source": [
      "Simplify usually combines fractions but does not factor: "
     ]
    },
    {
     "cell_type": "code",
     "collapsed": false,
     "input": [
      "simplify(f2)"
     ],
     "language": "python",
     "metadata": {},
     "outputs": [
      {
       "latex": [
        "$$\\frac{2 a + 5}{a^{2} + 5 a + 6}$$"
       ],
       "output_type": "pyout",
       "png": "[encoded data removed]",
       "prompt_number": 42,
       "text": [
        "\n",
        "  2\u22c5a + 5   \n",
        "\u2500\u2500\u2500\u2500\u2500\u2500\u2500\u2500\u2500\u2500\u2500\u2500\n",
        " 2          \n",
        "a  + 5\u22c5a + 6"
       ]
      }
     ],
     "prompt_number": 42
    },
    {
     "cell_type": "markdown",
     "metadata": {},
     "source": [
      "## Calculus\n",
      "\n",
      "In addition to algebraic manipulations, the other main use of CAS is to do calculus, like derivatives and integrals of algebraic expressions."
     ]
    },
    {
     "cell_type": "markdown",
     "metadata": {},
     "source": [
      "### Differentiation\n",
      "\n",
      "Differentiation is usually simple. Use the `diff` function. The first argument is the expression to take the derivative of, and the second argument is the symbol by which to take the deriative:"
     ]
    },
    {
     "cell_type": "code",
     "collapsed": false,
     "input": [
      "y"
     ],
     "language": "python",
     "metadata": {},
     "outputs": [
      {
       "latex": [
        "$$\\left(x + \\pi\\right)^{2}$$"
       ],
       "output_type": "pyout",
       "png": "[encoded data removed]",
       "prompt_number": 43,
       "text": [
        "\n",
        "       2\n",
        "(x + \u03c0) "
       ]
      }
     ],
     "prompt_number": 43
    },
    {
     "cell_type": "code",
     "collapsed": false,
     "input": [
      "diff(y**2, x)"
     ],
     "language": "python",
     "metadata": {},
     "outputs": [
      {
       "latex": [
        "$$4 \\left(x + \\pi\\right)^{3}$$"
       ],
       "output_type": "pyout",
       "png": "[encoded data removed]",
       "prompt_number": 44,
       "text": [
        "\n",
        "         3\n",
        "4\u22c5(x + \u03c0) "
       ]
      }
     ],
     "prompt_number": 44
    },
    {
     "cell_type": "markdown",
     "metadata": {},
     "source": [
      "For higher order derivatives we can do:"
     ]
    },
    {
     "cell_type": "code",
     "collapsed": false,
     "input": [
      "diff(y**2, x, x)"
     ],
     "language": "python",
     "metadata": {},
     "outputs": [
      {
       "latex": [
        "$$12 \\left(x + \\pi\\right)^{2}$$"
       ],
       "output_type": "pyout",
       "png": "[encoded data removed]",
       "prompt_number": 45,
       "text": [
        "\n",
        "          2\n",
        "12\u22c5(x + \u03c0) "
       ]
      }
     ],
     "prompt_number": 45
    },
    {
     "cell_type": "code",
     "collapsed": false,
     "input": [
      "diff(y**2, x, 2) # same as above"
     ],
     "language": "python",
     "metadata": {},
     "outputs": [
      {
       "latex": [
        "$$12 \\left(x + \\pi\\right)^{2}$$"
       ],
       "output_type": "pyout",
       "png": "[encoded data removed]",
       "prompt_number": 46,
       "text": [
        "\n",
        "          2\n",
        "12\u22c5(x + \u03c0) "
       ]
      }
     ],
     "prompt_number": 46
    },
    {
     "cell_type": "markdown",
     "metadata": {},
     "source": [
      "To calculate the derivative of a multivariate expression, we can do:"
     ]
    },
    {
     "cell_type": "code",
     "collapsed": false,
     "input": [
      "x, y, z = symbols(\"x,y,z\")"
     ],
     "language": "python",
     "metadata": {},
     "outputs": [],
     "prompt_number": 47
    },
    {
     "cell_type": "code",
     "collapsed": false,
     "input": [
      "f = sin(x*y) + cos(y*z)"
     ],
     "language": "python",
     "metadata": {},
     "outputs": [],
     "prompt_number": 48
    },
    {
     "cell_type": "markdown",
     "metadata": {},
     "source": [
      "$\\frac{d^3f}{dxdy^2}$"
     ]
    },
    {
     "cell_type": "code",
     "collapsed": false,
     "input": [
      "diff(f, x, 1, y, 2)"
     ],
     "language": "python",
     "metadata": {},
     "outputs": [
      {
       "latex": [
        "$$- x^{2} y \\operatorname{cos}\\left(x y\\right) - 2 x \\operatorname{sin}\\left(x y\\right)$$"
       ],
       "output_type": "pyout",
       "png": "[encoded data removed]",
       "prompt_number": 49,
       "text": [
        "\n",
        "   2                          \n",
        "- x \u22c5y\u22c5cos(x\u22c5y) - 2\u22c5x\u22c5sin(x\u22c5y)"
       ]
      }
     ],
     "prompt_number": 49
    },
    {
     "cell_type": "markdown",
     "metadata": {},
     "source": [
      "### Integration\n",
      "\n",
      "Integration is done in a similar fashion:"
     ]
    },
    {
     "cell_type": "code",
     "collapsed": false,
     "input": [
      "f"
     ],
     "language": "python",
     "metadata": {},
     "outputs": [
      {
       "latex": [
        "$$\\operatorname{sin}\\left(x y\\right) + \\operatorname{cos}\\left(y z\\right)$$"
       ],
       "output_type": "pyout",
       "png": "[encoded data removed]",
       "prompt_number": 50,
       "text": [
        "sin(x\u22c5y) + cos(y\u22c5z)"
       ]
      }
     ],
     "prompt_number": 50
    },
    {
     "cell_type": "code",
     "collapsed": false,
     "input": [
      "integrate(f, x)"
     ],
     "language": "python",
     "metadata": {},
     "outputs": [
      {
       "latex": [
        "$$x \\operatorname{cos}\\left(y z\\right) - \\frac{\\operatorname{cos}\\left(x y\\right)}{y}$$"
       ],
       "output_type": "pyout",
       "png": "[encoded data removed]",
       "prompt_number": 51,
       "text": [
        "\n",
        "             cos(x\u22c5y)\n",
        "x\u22c5cos(y\u22c5z) - \u2500\u2500\u2500\u2500\u2500\u2500\u2500\u2500\n",
        "                y    "
       ]
      }
     ],
     "prompt_number": 51
    },
    {
     "cell_type": "markdown",
     "metadata": {},
     "source": [
      "By providing limits for the integration variable we can evaluate definite integrals:"
     ]
    },
    {
     "cell_type": "code",
     "collapsed": false,
     "input": [
      "integrate(f, (x, -1, 1))"
     ],
     "language": "python",
     "metadata": {},
     "outputs": [
      {
       "latex": [
        "$$2 \\operatorname{cos}\\left(y z\\right)$$"
       ],
       "output_type": "pyout",
       "png": "[encoded data removed]",
       "prompt_number": 52,
       "text": [
        "2\u22c5cos(y\u22c5z)"
       ]
      }
     ],
     "prompt_number": 52
    },
    {
     "cell_type": "markdown",
     "metadata": {},
     "source": [
      "and also improper integrals"
     ]
    },
    {
     "cell_type": "code",
     "collapsed": false,
     "input": [
      "integrate(exp(-x**2), (x, -oo, oo))"
     ],
     "language": "python",
     "metadata": {},
     "outputs": [
      {
       "latex": [
        "$$\\sqrt{\\pi}$$"
       ],
       "output_type": "pyout",
       "png": "[encoded data removed]",
       "prompt_number": 53,
       "text": [
        "\n",
        "  \u23bd\u23bd\u23bd\n",
        "\u2572\u2571 \u03c0 "
       ]
      }
     ],
     "prompt_number": 53
    },
    {
     "cell_type": "markdown",
     "metadata": {},
     "source": [
      "Remember, `oo` is the SymPy notation for inifinity."
     ]
    },
    {
     "cell_type": "markdown",
     "metadata": {},
     "source": [
      "### Sums and products\n",
      "\n",
      "We can evaluate sums and products using the functions: 'Sum'"
     ]
    },
    {
     "cell_type": "code",
     "collapsed": false,
     "input": [
      "n = Symbol(\"n\")"
     ],
     "language": "python",
     "metadata": {},
     "outputs": [],
     "prompt_number": 54
    },
    {
     "cell_type": "code",
     "collapsed": false,
     "input": [
      "Sum(1/n**2, (n, 1, 10))"
     ],
     "language": "python",
     "metadata": {},
     "outputs": [
      {
       "latex": [
        "$$\\sum_{n=1}^{10} n^{-2}$$"
       ],
       "output_type": "pyout",
       "png": "[encoded data removed]",
       "prompt_number": 55,
       "text": [
        "\n",
        "  10    \n",
        "____    \n",
        "\\   `   \n",
        " \\    1 \n",
        "  \\   \u2500\u2500\n",
        "  /    2\n",
        " /    n \n",
        "/___,   \n",
        "n = 1   "
       ]
      }
     ],
     "prompt_number": 55
    },
    {
     "cell_type": "code",
     "collapsed": false,
     "input": [
      "Sum(1/n**2, (n,1, 10)).evalf()"
     ],
     "language": "python",
     "metadata": {},
     "outputs": [
      {
       "latex": [
        "$$1.54976773116654$$"
       ],
       "output_type": "pyout",
       "png": "[encoded data removed]",
       "prompt_number": 56,
       "text": [
        "1.54976773116654"
       ]
      }
     ],
     "prompt_number": 56
    },
    {
     "cell_type": "code",
     "collapsed": false,
     "input": [
      "Sum(1/n**2, (n, 1, oo)).evalf()"
     ],
     "language": "python",
     "metadata": {},
     "outputs": [
      {
       "latex": [
        "$$1.64493406684823$$"
       ],
       "output_type": "pyout",
       "png": "[encoded data removed]",
       "prompt_number": 57,
       "text": [
        "1.64493406684823"
       ]
      }
     ],
     "prompt_number": 57
    },
    {
     "cell_type": "markdown",
     "metadata": {},
     "source": [
      "Products work much the same way:"
     ]
    },
    {
     "cell_type": "code",
     "collapsed": false,
     "input": [
      "Product(n, (n, 1, 10)) # 10!"
     ],
     "language": "python",
     "metadata": {},
     "outputs": [
      {
       "latex": [
        "$$3628800$$"
       ],
       "output_type": "pyout",
       "png": "[encoded data removed]",
       "prompt_number": 58,
       "text": [
        "3628800"
       ]
      }
     ],
     "prompt_number": 58
    },
    {
     "cell_type": "markdown",
     "metadata": {},
     "source": [
      "### Limits\n",
      "\n",
      "Limits can be evaluated using the `limit` function. For example, "
     ]
    },
    {
     "cell_type": "code",
     "collapsed": false,
     "input": [
      "limit(sin(x)/x, x, 0)"
     ],
     "language": "python",
     "metadata": {},
     "outputs": [
      {
       "latex": [
        "$$1$$"
       ],
       "output_type": "pyout",
       "png": "[encoded data removed]",
       "prompt_number": 59,
       "text": [
        "1"
       ]
      }
     ],
     "prompt_number": 59
    },
    {
     "cell_type": "markdown",
     "metadata": {},
     "source": [
      "We can use 'limit' to check the result of derivation using the `diff` function:"
     ]
    },
    {
     "cell_type": "code",
     "collapsed": false,
     "input": [
      "f"
     ],
     "language": "python",
     "metadata": {},
     "outputs": [
      {
       "latex": [
        "$$\\operatorname{sin}\\left(x y\\right) + \\operatorname{cos}\\left(y z\\right)$$"
       ],
       "output_type": "pyout",
       "png": "[encoded data removed]",
       "prompt_number": 60,
       "text": [
        "sin(x\u22c5y) + cos(y\u22c5z)"
       ]
      }
     ],
     "prompt_number": 60
    },
    {
     "cell_type": "code",
     "collapsed": false,
     "input": [
      "diff(f, x)"
     ],
     "language": "python",
     "metadata": {},
     "outputs": [
      {
       "latex": [
        "$$y \\operatorname{cos}\\left(x y\\right)$$"
       ],
       "output_type": "pyout",
       "png": "[encoded data removed]",
       "prompt_number": 61,
       "text": [
        "y\u22c5cos(x\u22c5y)"
       ]
      }
     ],
     "prompt_number": 61
    },
    {
     "cell_type": "markdown",
     "metadata": {},
     "source": [
      "$\\displaystyle \\frac{\\mathrm{d}f(x,y)}{\\mathrm{d}x} = \\frac{f(x+h,y)-f(x,y)}{h}$"
     ]
    },
    {
     "cell_type": "code",
     "collapsed": false,
     "input": [
      "h = Symbol(\"h\")"
     ],
     "language": "python",
     "metadata": {},
     "outputs": [],
     "prompt_number": 62
    },
    {
     "cell_type": "code",
     "collapsed": false,
     "input": [
      "limit((f.subs(x, x+h) - f)/h, h, 0)"
     ],
     "language": "python",
     "metadata": {},
     "outputs": [
      {
       "latex": [
        "$$y \\operatorname{cos}\\left(x y\\right)$$"
       ],
       "output_type": "pyout",
       "png": "[encoded data removed]",
       "prompt_number": 63,
       "text": [
        "y\u22c5cos(x\u22c5y)"
       ]
      }
     ],
     "prompt_number": 63
    },
    {
     "cell_type": "markdown",
     "metadata": {},
     "source": [
      "OK!"
     ]
    },
    {
     "cell_type": "markdown",
     "metadata": {},
     "source": [
      "We can change the direction from which we approach the limiting point using the `dir` keywork argument:"
     ]
    },
    {
     "cell_type": "code",
     "collapsed": false,
     "input": [
      "limit(1/x, x, 0, dir=\"+\")"
     ],
     "language": "python",
     "metadata": {},
     "outputs": [
      {
       "latex": [
        "$$\\infty$$"
       ],
       "output_type": "pyout",
       "png": "[encoded data removed]",
       "prompt_number": 64,
       "text": [
        "\u221e"
       ]
      }
     ],
     "prompt_number": 64
    },
    {
     "cell_type": "code",
     "collapsed": false,
     "input": [
      "limit(1/x, x, 0, dir=\"-\")"
     ],
     "language": "python",
     "metadata": {},
     "outputs": [
      {
       "latex": [
        "$$-\\infty$$"
       ],
       "output_type": "pyout",
       "png": "[encoded data removed]",
       "prompt_number": 65,
       "text": [
        "-\u221e"
       ]
      }
     ],
     "prompt_number": 65
    },
    {
     "cell_type": "markdown",
     "metadata": {},
     "source": [
      "### Series\n",
      "\n",
      "Series expansion is also one of the most useful features of a CAS. In SymPy we can perform a series expansion of an expression using the `series` function:"
     ]
    },
    {
     "cell_type": "code",
     "collapsed": false,
     "input": [
      "series(exp(x), x)"
     ],
     "language": "python",
     "metadata": {},
     "outputs": [
      {
       "latex": [
        "$$1 + x + \\frac{1}{2} x^{2} + \\frac{1}{6} x^{3} + \\frac{1}{24} x^{4} + \\frac{1}{120} x^{5} + \\operatorname{\\mathcal{O}}\\left(x^{6}\\right)$$"
       ],
       "output_type": "pyout",
       "png": "[encoded data removed]",
       "prompt_number": 66,
       "text": [
        "\n",
        "         2    3    4     5          \n",
        "        x    x    x     x           \n",
        "1 + x + \u2500\u2500 + \u2500\u2500 + \u2500\u2500 + \u2500\u2500\u2500 + O(x**6)\n",
        "        2    6    24   120          "
       ]
      }
     ],
     "prompt_number": 66
    },
    {
     "cell_type": "markdown",
     "metadata": {},
     "source": [
      "By default it expands the expression around $x=0$, but we can expand around any value of $x$ by explicitly include a value in the function call:"
     ]
    },
    {
     "cell_type": "code",
     "collapsed": false,
     "input": [
      "series(exp(x), x, 1)"
     ],
     "language": "python",
     "metadata": {},
     "outputs": [
      {
       "latex": [
        "$$e + e x + \\frac{1}{2} e x^{2} + \\frac{1}{6} e x^{3} + \\frac{1}{24} e x^{4} + \\frac{1}{120} e x^{5} + \\operatorname{\\mathcal{O}}\\left(x^{6}\\right)$$"
       ],
       "output_type": "pyout",
       "png": "[encoded data removed]",
       "prompt_number": 67,
       "text": [
        "\n",
        "             2      3      4      5          \n",
        "          \u212f\u22c5x    \u212f\u22c5x    \u212f\u22c5x    \u212f\u22c5x           \n",
        "\u212f + \u212f\u22c5x + \u2500\u2500\u2500\u2500 + \u2500\u2500\u2500\u2500 + \u2500\u2500\u2500\u2500 + \u2500\u2500\u2500\u2500 + O(x**6)\n",
        "           2      6      24    120           "
       ]
      }
     ],
     "prompt_number": 67
    },
    {
     "cell_type": "markdown",
     "metadata": {},
     "source": [
      "And we can explicitly define to which order the series expansion should be carried out:"
     ]
    },
    {
     "cell_type": "code",
     "collapsed": false,
     "input": [
      "series(exp(x), x, 1, 10)"
     ],
     "language": "python",
     "metadata": {},
     "outputs": [
      {
       "latex": [
        "$$e + e x + \\frac{1}{2} e x^{2} + \\frac{1}{6} e x^{3} + \\frac{1}{24} e x^{4} + \\frac{1}{120} e x^{5} + \\frac{1}{720} e x^{6} + \\frac{1}{5040} e x^{7} + \\frac{1}{40320} e x^{8} + \\frac{1}{362880} e x^{9} + \\operatorname{\\mathcal{O}}\\left(x^{10}\\right)$$"
       ],
       "output_type": "pyout",
       "png": "[encoded data removed]",
       "prompt_number": 68,
       "text": [
        "\n",
        "             2      3      4      5      6      7       8       9            \n",
        "          \u212f\u22c5x    \u212f\u22c5x    \u212f\u22c5x    \u212f\u22c5x    \u212f\u22c5x    \u212f\u22c5x     \u212f\u22c5x     \u212f\u22c5x             \n",
        "\u212f + \u212f\u22c5x + \u2500\u2500\u2500\u2500 + \u2500\u2500\u2500\u2500 + \u2500\u2500\u2500\u2500 + \u2500\u2500\u2500\u2500 + \u2500\u2500\u2500\u2500 + \u2500\u2500\u2500\u2500 + \u2500\u2500\u2500\u2500\u2500 + \u2500\u2500\u2500\u2500\u2500\u2500 + O(x**10)\n",
        "           2      6      24    120    720    5040   40320   362880           "
       ]
      }
     ],
     "prompt_number": 68
    },
    {
     "cell_type": "markdown",
     "metadata": {},
     "source": [
      "The series expansion includes the order of the approximation, which is very useful for keeping track of the order of validity when we do calculations with series expansions of different order:"
     ]
    },
    {
     "cell_type": "code",
     "collapsed": false,
     "input": [
      "s1 = cos(x).series(x, 0, 5)\n",
      "s1"
     ],
     "language": "python",
     "metadata": {},
     "outputs": [
      {
       "latex": [
        "$$1 - \\frac{1}{2} x^{2} + \\frac{1}{24} x^{4} + \\operatorname{\\mathcal{O}}\\left(x^{5}\\right)$$"
       ],
       "output_type": "pyout",
       "png": "[encoded data removed]",
       "prompt_number": 69,
       "text": [
        "\n",
        "     2    4          \n",
        "    x    x           \n",
        "1 - \u2500\u2500 + \u2500\u2500 + O(x**5)\n",
        "    2    24          "
       ]
      }
     ],
     "prompt_number": 69
    },
    {
     "cell_type": "code",
     "collapsed": false,
     "input": [
      "s2 = sin(x).series(x, 0, 2)\n",
      "s2"
     ],
     "language": "python",
     "metadata": {},
     "outputs": [
      {
       "latex": [
        "$$x + \\operatorname{\\mathcal{O}}\\left(x^{2}\\right)$$"
       ],
       "output_type": "pyout",
       "png": "[encoded data removed]",
       "prompt_number": 70,
       "text": [
        "x + O(x**2)"
       ]
      }
     ],
     "prompt_number": 70
    },
    {
     "cell_type": "code",
     "collapsed": false,
     "input": [
      "expand(s1 * s2)"
     ],
     "language": "python",
     "metadata": {},
     "outputs": [
      {
       "latex": [
        "$$x + \\operatorname{\\mathcal{O}}\\left(x^{2}\\right)$$"
       ],
       "output_type": "pyout",
       "png": "[encoded data removed]",
       "prompt_number": 71,
       "text": [
        "x + O(x**2)"
       ]
      }
     ],
     "prompt_number": 71
    },
    {
     "cell_type": "markdown",
     "metadata": {},
     "source": [
      "If we want to get rid of the order information we can use the `removeO` method:"
     ]
    },
    {
     "cell_type": "code",
     "collapsed": false,
     "input": [
      "expand(s1.removeO() * s2.removeO())"
     ],
     "language": "python",
     "metadata": {},
     "outputs": [
      {
       "latex": [
        "$$\\frac{1}{24} x^{5} - \\frac{1}{2} x^{3} + x$$"
       ],
       "output_type": "pyout",
       "png": "[encoded data removed]",
       "prompt_number": 72,
       "text": [
        "\n",
        " 5    3    \n",
        "x    x     \n",
        "\u2500\u2500 - \u2500\u2500 + x\n",
        "24   2     "
       ]
      }
     ],
     "prompt_number": 72
    },
    {
     "cell_type": "markdown",
     "metadata": {},
     "source": [
      "But note that this is not the correct expansion of $\\cos(x)\\sin(x)$ to $5$th order:"
     ]
    },
    {
     "cell_type": "code",
     "collapsed": false,
     "input": [
      "(cos(x)*sin(x)).series(x, 0, 6)"
     ],
     "language": "python",
     "metadata": {},
     "outputs": [
      {
       "latex": [
        "$$x - \\frac{2}{3} x^{3} + \\frac{2}{15} x^{5} + \\operatorname{\\mathcal{O}}\\left(x^{6}\\right)$$"
       ],
       "output_type": "pyout",
       "png": "[encoded data removed]",
       "prompt_number": 73,
       "text": [
        "\n",
        "       3      5          \n",
        "    2\u22c5x    2\u22c5x           \n",
        "x - \u2500\u2500\u2500\u2500 + \u2500\u2500\u2500\u2500 + O(x**6)\n",
        "     3      15           "
       ]
      }
     ],
     "prompt_number": 73
    },
    {
     "cell_type": "markdown",
     "metadata": {},
     "source": [
      "## Linear algebra"
     ]
    },
    {
     "cell_type": "markdown",
     "metadata": {},
     "source": [
      "### Matrices\n",
      "\n",
      "Matrices are defined using the `Matrix` class:"
     ]
    },
    {
     "cell_type": "code",
     "collapsed": false,
     "input": [
      "m11, m12, m21, m22 = symbols(\"m11, m12, m21, m22\")\n",
      "b1, b2 = symbols(\"b1, b2\")"
     ],
     "language": "python",
     "metadata": {},
     "outputs": [],
     "prompt_number": 74
    },
    {
     "cell_type": "code",
     "collapsed": false,
     "input": [
      "A = Matrix([[m11, m12],[m21, m22]])\n",
      "A"
     ],
     "language": "python",
     "metadata": {},
     "outputs": [
      {
       "latex": [
        "$$\\left(\\begin{smallmatrix}m_{11} & m_{12}\\\\m_{21} & m_{22}\\end{smallmatrix}\\right)$$"
       ],
       "output_type": "pyout",
       "png": "[encoded data removed]",
       "prompt_number": 75,
       "text": [
        "\n",
        "\u23a1m\u2081\u2081  m\u2081\u2082\u23a4\n",
        "\u23a2        \u23a5\n",
        "\u23a3m\u2082\u2081  m\u2082\u2082\u23a6"
       ]
      }
     ],
     "prompt_number": 75
    },
    {
     "cell_type": "code",
     "collapsed": false,
     "input": [
      "b = Matrix([[b1], [b2]])\n",
      "b"
     ],
     "language": "python",
     "metadata": {},
     "outputs": [
      {
       "latex": [
        "$$\\left(\\begin{smallmatrix}b_{1}\\\\b_{2}\\end{smallmatrix}\\right)$$"
       ],
       "output_type": "pyout",
       "png": "[encoded data removed]",
       "prompt_number": 76,
       "text": [
        "\n",
        "\u23a1b\u2081\u23a4\n",
        "\u23a2  \u23a5\n",
        "\u23a3b\u2082\u23a6"
       ]
      }
     ],
     "prompt_number": 76
    },
    {
     "cell_type": "markdown",
     "metadata": {},
     "source": [
      "With `Matrix` class instances we can do the usual matrix algebra operations:"
     ]
    },
    {
     "cell_type": "code",
     "collapsed": false,
     "input": [
      "A**2"
     ],
     "language": "python",
     "metadata": {},
     "outputs": [
      {
       "latex": [
        "$$\\left(\\begin{smallmatrix}m_{11}^{2} + m_{12} m_{21} & m_{11} m_{12} + m_{12} m_{22}\\\\m_{11} m_{21} + m_{21} m_{22} & m_{12} m_{21} + m_{22}^{2}\\end{smallmatrix}\\right)$$"
       ],
       "output_type": "pyout",
       "png": "[encoded data removed]",
       "prompt_number": 77,
       "text": [
        "\n",
        "\u23a1    2                               \u23a4\n",
        "\u23a2 m\u2081\u2081  + m\u2081\u2082\u22c5m\u2082\u2081    m\u2081\u2081\u22c5m\u2081\u2082 + m\u2081\u2082\u22c5m\u2082\u2082\u23a5\n",
        "\u23a2                                    \u23a5\n",
        "\u23a2                                 2  \u23a5\n",
        "\u23a3m\u2081\u2081\u22c5m\u2082\u2081 + m\u2082\u2081\u22c5m\u2082\u2082   m\u2081\u2082\u22c5m\u2082\u2081 + m\u2082\u2082   \u23a6"
       ]
      }
     ],
     "prompt_number": 77
    },
    {
     "cell_type": "code",
     "collapsed": false,
     "input": [
      "A * b"
     ],
     "language": "python",
     "metadata": {},
     "outputs": [
      {
       "latex": [
        "$$\\left(\\begin{smallmatrix}b_{1} m_{11} + b_{2} m_{12}\\\\b_{1} m_{21} + b_{2} m_{22}\\end{smallmatrix}\\right)$$"
       ],
       "output_type": "pyout",
       "png": "[encoded data removed]",
       "prompt_number": 78,
       "text": [
        "\n",
        "\u23a1b\u2081\u22c5m\u2081\u2081 + b\u2082\u22c5m\u2081\u2082\u23a4\n",
        "\u23a2               \u23a5\n",
        "\u23a3b\u2081\u22c5m\u2082\u2081 + b\u2082\u22c5m\u2082\u2082\u23a6"
       ]
      }
     ],
     "prompt_number": 78
    },
    {
     "cell_type": "markdown",
     "metadata": {},
     "source": [
      "And calculate determinants and inverses, and the like:"
     ]
    },
    {
     "cell_type": "code",
     "collapsed": false,
     "input": [
      "A.det()"
     ],
     "language": "python",
     "metadata": {},
     "outputs": [
      {
       "latex": [
        "$$m_{11} m_{22} - m_{12} m_{21}$$"
       ],
       "output_type": "pyout",
       "png": "[encoded data removed]",
       "prompt_number": 79,
       "text": [
        "m\u2081\u2081\u22c5m\u2082\u2082 - m\u2081\u2082\u22c5m\u2082\u2081"
       ]
      }
     ],
     "prompt_number": 79
    },
    {
     "cell_type": "code",
     "collapsed": false,
     "input": [
      "A.inv()"
     ],
     "language": "python",
     "metadata": {},
     "outputs": [
      {
       "latex": [
        "$$\\left(\\begin{smallmatrix}\\frac{1}{m_{11}} + \\frac{m_{12} m_{21}}{m_{11}^{2} \\left(m_{22} - \\frac{m_{12} m_{21}}{m_{11}}\\right)} & - \\frac{m_{12}}{m_{11} \\left(m_{22} - \\frac{m_{12} m_{21}}{m_{11}}\\right)}\\\\- \\frac{m_{21}}{m_{11} \\left(m_{22} - \\frac{m_{12} m_{21}}{m_{11}}\\right)} & \\frac{1}{m_{22} - \\frac{m_{12} m_{21}}{m_{11}}}\\end{smallmatrix}\\right)$$"
       ],
       "output_type": "pyout",
       "png": "[encoded data removed]",
       "prompt_number": 80,
       "text": [
        "\n",
        "\u23a1 1          m\u2081\u2082\u22c5m\u2082\u2081                 -m\u2081\u2082       \u23a4\n",
        "\u23a2\u2500\u2500\u2500 + \u2500\u2500\u2500\u2500\u2500\u2500\u2500\u2500\u2500\u2500\u2500\u2500\u2500\u2500\u2500\u2500\u2500\u2500\u2500\u2500  \u2500\u2500\u2500\u2500\u2500\u2500\u2500\u2500\u2500\u2500\u2500\u2500\u2500\u2500\u2500\u2500\u2500\u2500\u2500\u23a5\n",
        "\u23a2m\u2081\u2081      2 \u239b      m\u2081\u2082\u22c5m\u2082\u2081\u239e      \u239b      m\u2081\u2082\u22c5m\u2082\u2081\u239e\u23a5\n",
        "\u23a2      m\u2081\u2081 \u22c5\u239cm\u2082\u2082 - \u2500\u2500\u2500\u2500\u2500\u2500\u2500\u239f  m\u2081\u2081\u22c5\u239cm\u2082\u2082 - \u2500\u2500\u2500\u2500\u2500\u2500\u2500\u239f\u23a5\n",
        "\u23a2           \u239d        m\u2081\u2081  \u23a0      \u239d        m\u2081\u2081  \u23a0\u23a5\n",
        "\u23a2                                               \u23a5\n",
        "\u23a2           -m\u2082\u2081                      1         \u23a5\n",
        "\u23a2   \u2500\u2500\u2500\u2500\u2500\u2500\u2500\u2500\u2500\u2500\u2500\u2500\u2500\u2500\u2500\u2500\u2500\u2500\u2500         \u2500\u2500\u2500\u2500\u2500\u2500\u2500\u2500\u2500\u2500\u2500\u2500\u2500   \u23a5\n",
        "\u23a2       \u239b      m\u2081\u2082\u22c5m\u2082\u2081\u239e               m\u2081\u2082\u22c5m\u2082\u2081   \u23a5\n",
        "\u23a2   m\u2081\u2081\u22c5\u239cm\u2082\u2082 - \u2500\u2500\u2500\u2500\u2500\u2500\u2500\u239f         m\u2082\u2082 - \u2500\u2500\u2500\u2500\u2500\u2500\u2500   \u23a5\n",
        "\u23a3       \u239d        m\u2081\u2081  \u23a0                 m\u2081\u2081     \u23a6"
       ]
      }
     ],
     "prompt_number": 80
    },
    {
     "cell_type": "markdown",
     "metadata": {},
     "source": [
      "## Solving equations\n",
      "\n",
      "For solving equations and systems of equations we can use the `solve` function:"
     ]
    },
    {
     "cell_type": "code",
     "collapsed": false,
     "input": [
      "solve(x**2 - 1, x)"
     ],
     "language": "python",
     "metadata": {},
     "outputs": [
      {
       "latex": [
        "$$\\begin{bmatrix}1, & -1\\end{bmatrix}$$"
       ],
       "output_type": "pyout",
       "prompt_number": 81,
       "text": [
        "[1, -1]"
       ]
      }
     ],
     "prompt_number": 81
    },
    {
     "cell_type": "code",
     "collapsed": false,
     "input": [
      "solve(x**4 - x**2 - 1, x)"
     ],
     "language": "python",
     "metadata": {},
     "outputs": [
      {
       "latex": [
        "$$\\begin{bmatrix}\\mathbf{\\imath} \\sqrt{- \\frac{1}{2} + \\frac{1}{2} \\sqrt{5}}, & - \\sqrt{\\frac{1}{2} + \\frac{1}{2} \\sqrt{5}}, & - \\mathbf{\\imath} \\sqrt{- \\frac{1}{2} + \\frac{1}{2} \\sqrt{5}}, & \\sqrt{\\frac{1}{2} + \\frac{1}{2} \\sqrt{5}}\\end{bmatrix}$$"
       ],
       "output_type": "pyout",
       "prompt_number": 82,
       "text": [
        "[\n",
        "       \u23bd\u23bd\u23bd\u23bd\u23bd\u23bd\u23bd\u23bd\u23bd\u23bd\u23bd\u23bd\u23bd\n",
        "      \u2571         \u23bd\u23bd\u23bd \n",
        "     \u2571    1   \u2572\u2571 5  \n",
        "\u2148\u22c5  \u2571   - \u2500 + \u2500\u2500\u2500\u2500\u2500 \n",
        "  \u2572\u2571      2     2   ,\n",
        " \n",
        "      \u23bd\u23bd\u23bd\u23bd\u23bd\u23bd\u23bd\u23bd\u23bd\u23bd\u23bd\n",
        "     \u2571       \u23bd\u23bd\u23bd \n",
        "    \u2571  1   \u2572\u2571 5  \n",
        "-  \u2571   \u2500 + \u2500\u2500\u2500\u2500\u2500 \n",
        " \u2572\u2571    2     2   ,\n",
        " \n",
        "        \u23bd\u23bd\u23bd\u23bd\u23bd\u23bd\u23bd\u23bd\u23bd\u23bd\u23bd\u23bd\u23bd\n",
        "       \u2571         \u23bd\u23bd\u23bd \n",
        "      \u2571    1   \u2572\u2571 5  \n",
        "-\u2148\u22c5  \u2571   - \u2500 + \u2500\u2500\u2500\u2500\u2500 \n",
        "   \u2572\u2571      2     2   ,\n",
        " \n",
        "     \u23bd\u23bd\u23bd\u23bd\u23bd\u23bd\u23bd\u23bd\u23bd\u23bd\u23bd\n",
        "    \u2571       \u23bd\u23bd\u23bd \n",
        "   \u2571  1   \u2572\u2571 5  \n",
        "  \u2571   \u2500 + \u2500\u2500\u2500\u2500\u2500 \n",
        "\u2572\u2571    2     2   ]"
       ]
      }
     ],
     "prompt_number": 82
    },
    {
     "cell_type": "markdown",
     "metadata": {},
     "source": [
      "System of equations:"
     ]
    },
    {
     "cell_type": "code",
     "collapsed": false,
     "input": [
      "solve([x + y - 1, x - y - 1], [x,y])"
     ],
     "language": "python",
     "metadata": {},
     "outputs": [
      {
       "output_type": "pyout",
       "prompt_number": 83,
       "text": [
        "{x: 1, y: 0}"
       ]
      }
     ],
     "prompt_number": 83
    },
    {
     "cell_type": "markdown",
     "metadata": {},
     "source": [
      "In terms of other symbolic expressions:"
     ]
    },
    {
     "cell_type": "code",
     "collapsed": false,
     "input": [
      "solve([x + y - a, x - y - c], [x,y])"
     ],
     "language": "python",
     "metadata": {},
     "outputs": [
      {
       "output_type": "pyout",
       "prompt_number": 84,
       "text": [
        "{x: \n",
        "a   c\n",
        "\u2500 + \u2500\n",
        "2   2, y: \n",
        "a   c\n",
        "\u2500 - \u2500\n",
        "2   2}"
       ]
      }
     ],
     "prompt_number": 84
    },
    {
     "cell_type": "markdown",
     "metadata": {},
     "source": [
      "## Quantum mechanics: noncommuting variables\n",
      "\n",
      "How about non-commuting symbols? In quantum mechanics we need to work with noncommuting operators, and SymPy has a nice support for noncommuting symbols and even a subpackage for quantum mechanics related calculations!"
     ]
    },
    {
     "cell_type": "code",
     "collapsed": false,
     "input": [
      "from sympy.physics.quantum import *"
     ],
     "language": "python",
     "metadata": {},
     "outputs": [],
     "prompt_number": 85
    },
    {
     "cell_type": "markdown",
     "metadata": {},
     "source": [
      "### States\n",
      "\n",
      "We can define symbol states, kets and bras:"
     ]
    },
    {
     "cell_type": "code",
     "collapsed": false,
     "input": [
      "Ket('psi')"
     ],
     "language": "python",
     "metadata": {},
     "outputs": [
      {
       "latex": [
        "$${\\left|\\psi\\right\\rangle }$$"
       ],
       "output_type": "pyout",
       "png": "[encoded data removed]",
       "prompt_number": 86,
       "text": [
        "\u2758\u03c8\u27e9"
       ]
      }
     ],
     "prompt_number": 86
    },
    {
     "cell_type": "code",
     "collapsed": false,
     "input": [
      "Bra('psi')"
     ],
     "language": "python",
     "metadata": {},
     "outputs": [
      {
       "latex": [
        "$${\\left\\langle \\psi\\right|}$$"
       ],
       "output_type": "pyout",
       "png": "[encoded data removed]",
       "prompt_number": 87,
       "text": [
        "\u27e8\u03c8\u2758"
       ]
      }
     ],
     "prompt_number": 87
    },
    {
     "cell_type": "code",
     "collapsed": false,
     "input": [
      "u = Ket('0')\n",
      "d = Ket('1')\n",
      "\n",
      "a, b = symbols('alpha beta', complex=True)"
     ],
     "language": "python",
     "metadata": {},
     "outputs": [],
     "prompt_number": 88
    },
    {
     "cell_type": "code",
     "collapsed": false,
     "input": [
      "phi = a * u + sqrt(1-abs(a)**2) * d; phi"
     ],
     "language": "python",
     "metadata": {},
     "outputs": [
      {
       "latex": [
        "$$\\alpha {\\left|0\\right\\rangle } + \\sqrt{- \\lvert{\\alpha}\\rvert^{2} + 1} {\\left|1\\right\\rangle }$$"
       ],
       "output_type": "pyout",
       "prompt_number": 89,
       "text": [
        "\n",
        "           \u23bd\u23bd\u23bd\u23bd\u23bd\u23bd\u23bd\u23bd\u23bd\u23bd\u23bd\u23bd    \n",
        "          \u2571      2         \n",
        "\u03b1\u22c5\u27580\u27e9 + \u2572\u2571  - \u2502\u03b1\u2502  + 1 \u22c5\u27581\u27e9"
       ]
      }
     ],
     "prompt_number": 89
    },
    {
     "cell_type": "code",
     "collapsed": false,
     "input": [
      "Dagger(phi)"
     ],
     "language": "python",
     "metadata": {},
     "outputs": [
      {
       "latex": [
        "$$\\sqrt{- \\lvert{\\alpha}\\rvert^{2} + 1} {\\left\\langle 1\\right|} + \\overline{\\alpha} {\\left\\langle 0\\right|}$$"
       ],
       "output_type": "pyout",
       "prompt_number": 90,
       "text": [
        "\n",
        "   \u23bd\u23bd\u23bd\u23bd\u23bd\u23bd\u23bd\u23bd\u23bd\u23bd\u23bd\u23bd            \n",
        "  \u2571      2            \u23bd    \n",
        "\u2572\u2571  - \u2502\u03b1\u2502  + 1 \u22c5\u27e81\u2758 + \u03b1\u22c5\u27e80\u2758"
       ]
      }
     ],
     "prompt_number": 90
    },
    {
     "cell_type": "code",
     "collapsed": false,
     "input": [
      "Dagger(phi) * d"
     ],
     "language": "python",
     "metadata": {},
     "outputs": [
      {
       "latex": [
        "$$\\left(\\sqrt{- \\lvert{\\alpha}\\rvert^{2} + 1} {\\left\\langle 1\\right|} + \\overline{\\alpha} {\\left\\langle 0\\right|}\\right) {\\left|1\\right\\rangle }$$"
       ],
       "output_type": "pyout",
       "prompt_number": 91,
       "text": [
        "\n",
        "\u239b   \u23bd\u23bd\u23bd\u23bd\u23bd\u23bd\u23bd\u23bd\u23bd\u23bd\u23bd\u23bd            \u239e    \n",
        "\u239c  \u2571      2            \u23bd    \u239f    \n",
        "\u239d\u2572\u2571  - \u2502\u03b1\u2502  + 1 \u22c5\u27e81\u2758 + \u03b1\u22c5\u27e80\u2758\u23a0\u22c5\u27581\u27e9"
       ]
      }
     ],
     "prompt_number": 91
    },
    {
     "cell_type": "markdown",
     "metadata": {},
     "source": [
      "Use `qapply` to distribute a mutiplication:"
     ]
    },
    {
     "cell_type": "code",
     "collapsed": false,
     "input": [
      "qapply(Dagger(phi) * d)"
     ],
     "language": "python",
     "metadata": {},
     "outputs": [
      {
       "latex": [
        "$$\\sqrt{- \\lvert{\\alpha}\\rvert^{2} + 1} \\left\\langle 1 \\right. {\\left|1\\right\\rangle } + \\overline{\\alpha} \\left\\langle 0 \\right. {\\left|1\\right\\rangle }$$"
       ],
       "output_type": "pyout",
       "prompt_number": 92,
       "text": [
        "\n",
        "   \u23bd\u23bd\u23bd\u23bd\u23bd\u23bd\u23bd\u23bd\u23bd\u23bd\u23bd\u23bd                \n",
        "  \u2571      2              \u23bd      \n",
        "\u2572\u2571  - \u2502\u03b1\u2502  + 1 \u22c5\u27e81\u27581\u27e9 + \u03b1\u22c5\u27e80\u27581\u27e9"
       ]
      }
     ],
     "prompt_number": 92
    },
    {
     "cell_type": "code",
     "collapsed": false,
     "input": [
      "qapply(Dagger(phi) * u)"
     ],
     "language": "python",
     "metadata": {},
     "outputs": [
      {
       "latex": [
        "$$\\sqrt{- \\lvert{\\alpha}\\rvert^{2} + 1} \\left\\langle 1 \\right. {\\left|0\\right\\rangle } + \\overline{\\alpha} \\left\\langle 0 \\right. {\\left|0\\right\\rangle }$$"
       ],
       "output_type": "pyout",
       "prompt_number": 93,
       "text": [
        "\n",
        "   \u23bd\u23bd\u23bd\u23bd\u23bd\u23bd\u23bd\u23bd\u23bd\u23bd\u23bd\u23bd                \n",
        "  \u2571      2              \u23bd      \n",
        "\u2572\u2571  - \u2502\u03b1\u2502  + 1 \u22c5\u27e81\u27580\u27e9 + \u03b1\u22c5\u27e80\u27580\u27e9"
       ]
      }
     ],
     "prompt_number": 93
    },
    {
     "cell_type": "markdown",
     "metadata": {},
     "source": [
      "### Operators"
     ]
    },
    {
     "cell_type": "code",
     "collapsed": false,
     "input": [
      "A = Operator('A')\n",
      "B = Operator('B')"
     ],
     "language": "python",
     "metadata": {},
     "outputs": [],
     "prompt_number": 94
    },
    {
     "cell_type": "markdown",
     "metadata": {},
     "source": [
      "Check if they are commuting!"
     ]
    },
    {
     "cell_type": "code",
     "collapsed": false,
     "input": [
      "A * B == B * A"
     ],
     "language": "python",
     "metadata": {},
     "outputs": [
      {
       "output_type": "pyout",
       "png": "[encoded data removed]",
       "prompt_number": 95,
       "text": [
        "False"
       ]
      }
     ],
     "prompt_number": 95
    },
    {
     "cell_type": "code",
     "collapsed": false,
     "input": [
      "expand((A+B)**3)"
     ],
     "language": "python",
     "metadata": {},
     "outputs": [
      {
       "latex": [
        "$$A B A + A \\left(B\\right)^{2} + \\left(A\\right)^{2} B + \\left(A\\right)^{3} + B A B + B \\left(A\\right)^{2} + \\left(B\\right)^{2} A + \\left(B\\right)^{3}$$"
       ],
       "output_type": "pyout",
       "png": "[encoded data removed]",
       "prompt_number": 96,
       "text": [
        "\n",
        "           2    2      3              2    2      3\n",
        "A\u22c5B\u22c5A + A\u22c5B  + A \u22c5B + A  + B\u22c5A\u22c5B + B\u22c5A  + B \u22c5A + B "
       ]
      }
     ],
     "prompt_number": 96
    },
    {
     "cell_type": "code",
     "collapsed": false,
     "input": [
      "c = Commutator(A,B)\n",
      "c"
     ],
     "language": "python",
     "metadata": {},
     "outputs": [
      {
       "latex": [
        "$$\\left[A,B\\right]$$"
       ],
       "output_type": "pyout",
       "png": "[encoded data removed]",
       "prompt_number": 97,
       "text": [
        "[A,B]"
       ]
      }
     ],
     "prompt_number": 97
    },
    {
     "cell_type": "markdown",
     "metadata": {},
     "source": [
      "We can use the `doit` method to evaluate the commutator:"
     ]
    },
    {
     "cell_type": "code",
     "collapsed": false,
     "input": [
      "c.doit()"
     ],
     "language": "python",
     "metadata": {},
     "outputs": [
      {
       "latex": [
        "$$A B - B A$$"
       ],
       "output_type": "pyout",
       "png": "[encoded data removed]",
       "prompt_number": 98,
       "text": [
        "A\u22c5B - B\u22c5A"
       ]
      }
     ],
     "prompt_number": 98
    },
    {
     "cell_type": "markdown",
     "metadata": {},
     "source": [
      "We can mix quantum operators with C-numbers:"
     ]
    },
    {
     "cell_type": "code",
     "collapsed": false,
     "input": [
      "c = Commutator(a * A, b * B)\n",
      "c"
     ],
     "language": "python",
     "metadata": {},
     "outputs": [
      {
       "latex": [
        "$$\\alpha \\beta \\left[A,B\\right]$$"
       ],
       "output_type": "pyout",
       "png": "[encoded data removed]",
       "prompt_number": 99,
       "text": [
        "\u03b1\u22c5\u03b2\u22c5[A,B]"
       ]
      }
     ],
     "prompt_number": 99
    },
    {
     "cell_type": "markdown",
     "metadata": {},
     "source": [
      "To expand the commutator, use the `expand` method with the `commutator=True` keyword argument:"
     ]
    },
    {
     "cell_type": "code",
     "collapsed": false,
     "input": [
      "c = Commutator(A+B, A*B)\n",
      "c.expand(commutator=True)"
     ],
     "language": "python",
     "metadata": {},
     "outputs": [
      {
       "latex": [
        "$$- \\left[A,B\\right] B + A \\left[A,B\\right]$$"
       ],
       "output_type": "pyout",
       "png": "[encoded data removed]",
       "prompt_number": 100,
       "text": [
        "-[A,B]\u22c5B + A\u22c5[A,B]"
       ]
      }
     ],
     "prompt_number": 100
    },
    {
     "cell_type": "code",
     "collapsed": false,
     "input": [
      "Dagger(Commutator(A, B))"
     ],
     "language": "python",
     "metadata": {},
     "outputs": [
      {
       "latex": [
        "$$- \\left[A^{\\dagger},B^{\\dagger}\\right]$$"
       ],
       "output_type": "pyout",
       "png": "[encoded data removed]",
       "prompt_number": 101,
       "text": [
        "\n",
        " \u23a1 \u2020  \u2020\u23a4\n",
        "-\u23a3A ,B \u23a6"
       ]
      }
     ],
     "prompt_number": 101
    },
    {
     "cell_type": "code",
     "collapsed": false,
     "input": [
      "ac = AntiCommutator(A,B)"
     ],
     "language": "python",
     "metadata": {},
     "outputs": [],
     "prompt_number": 102
    },
    {
     "cell_type": "code",
     "collapsed": false,
     "input": [
      "ac.doit()"
     ],
     "language": "python",
     "metadata": {},
     "outputs": [
      {
       "latex": [
        "$$A B + B A$$"
       ],
       "output_type": "pyout",
       "png": "[encoded data removed]",
       "prompt_number": 103,
       "text": [
        "A\u22c5B + B\u22c5A"
       ]
      }
     ],
     "prompt_number": 103
    },
    {
     "cell_type": "markdown",
     "metadata": {},
     "source": [
      "#### Example: Quadrature commutator"
     ]
    },
    {
     "cell_type": "markdown",
     "metadata": {},
     "source": [
      "Let's look at the commutator of the electromagnetic field quadatures $x$ and $p$. We can write the quadrature operators in terms of the creation and annihilation operators as:\n",
      "\n",
      "$\\displaystyle x = (a + a^\\dagger)/\\sqrt{2}$\n",
      "\n",
      "$\\displaystyle p = -i(a - a^\\dagger)/\\sqrt{2}$\n"
     ]
    },
    {
     "cell_type": "code",
     "collapsed": false,
     "input": [
      "X = (A + Dagger(A))/sqrt(2)\n",
      "X"
     ],
     "language": "python",
     "metadata": {},
     "outputs": [
      {
       "latex": [
        "$$\\frac{1}{2} \\sqrt{2} \\left(A^{\\dagger} + A\\right)$$"
       ],
       "output_type": "pyout",
       "png": "[encoded data removed]",
       "prompt_number": 104,
       "text": [
        "\n",
        "  \u23bd\u23bd\u23bd \u239b \u2020    \u239e\n",
        "\u2572\u2571 2 \u22c5\u239dA  + A\u23a0\n",
        "\u2500\u2500\u2500\u2500\u2500\u2500\u2500\u2500\u2500\u2500\u2500\u2500\u2500\u2500\n",
        "      2       "
       ]
      }
     ],
     "prompt_number": 104
    },
    {
     "cell_type": "code",
     "collapsed": false,
     "input": [
      "P = -I * (A - Dagger(A))/sqrt(2)\n",
      "P"
     ],
     "language": "python",
     "metadata": {},
     "outputs": [
      {
       "latex": [
        "$$- \\frac{1}{2} \\sqrt{2} \\mathbf{\\imath} \\left(- A^{\\dagger} + A\\right)$$"
       ],
       "output_type": "pyout",
       "png": "[encoded data removed]",
       "prompt_number": 105,
       "text": [
        "\n",
        "   \u23bd\u23bd\u23bd   \u239b   \u2020    \u239e\n",
        "-\u2572\u2571 2 \u22c5\u2148\u22c5\u239d- A  + A\u23a0\n",
        "\u2500\u2500\u2500\u2500\u2500\u2500\u2500\u2500\u2500\u2500\u2500\u2500\u2500\u2500\u2500\u2500\u2500\u2500\u2500\n",
        "         2         "
       ]
      }
     ],
     "prompt_number": 105
    },
    {
     "cell_type": "markdown",
     "metadata": {},
     "source": [
      "Let's expand the commutator $[x,p]$"
     ]
    },
    {
     "cell_type": "code",
     "collapsed": false,
     "input": [
      "Commutator(X, P).expand(commutator=True)"
     ],
     "language": "python",
     "metadata": {},
     "outputs": [
      {
       "latex": [
        "$$- \\mathbf{\\imath} \\left[A^{\\dagger},A\\right]$$"
       ],
       "output_type": "pyout",
       "png": "[encoded data removed]",
       "prompt_number": 106,
       "text": [
        "\n",
        "   \u23a1 \u2020  \u23a4\n",
        "-\u2148\u22c5\u23a3A ,A\u23a6"
       ]
      }
     ],
     "prompt_number": 106
    },
    {
     "cell_type": "markdown",
     "metadata": {},
     "source": [
      "Here we see directly that the well known commutation relation for the quadratures\n",
      "\n",
      "$[x,p]=i$\n",
      "\n",
      "is a directly related to\n",
      "\n",
      "$[A, A^\\dagger]=1$ \n",
      "\n",
      "(which SymPy does not know about, and does not simplify)."
     ]
    },
    {
     "cell_type": "markdown",
     "metadata": {},
     "source": [
      "For more details on the quantum module in SymPy, see:\n",
      "\n",
      "* http://docs.sympy.org/0.7.2/modules/physics/quantum/index.html\n",
      "* http://nbviewer.ipython.org/urls/raw.github.com/ipython/ipython/master/docs/examples/notebooks/sympy_quantum_computing.ipynb"
     ]
    },
    {
     "cell_type": "markdown",
     "metadata": {},
     "source": [
      "## Further reading\n",
      "\n",
      "* http://sympy.org/en/index.html - The SymPy projects web page.\n",
      "* https://github.com/sympy/sympy - The source code of SymPy.\n",
      "* http://live.sympy.org - Online version of SymPy for testing and demonstrations.\n"
     ]
    }
   ],
   "metadata": {}
  }
 ]
}
