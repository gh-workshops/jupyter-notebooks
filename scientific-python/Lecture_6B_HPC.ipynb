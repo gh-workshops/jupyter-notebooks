{
 "metadata": {
  "name": "Lecture-6B-HPC"
 },
 "nbformat": 3,
 "nbformat_minor": 0,
 "worksheets": [
  {
   "cells": [
    {
     "cell_type": "markdown",
     "metadata": {},
     "source": [
      "# Lecture 6B - Tools for high-performance computing applications\n",
      "\n",
      "J.R. Johansson (robert@riken.jp) http://dml.riken.jp/~rob/\n",
      "\n",
      "The latest version of this [IPython notebook](http://ipython.org/ipython-doc/dev/interactive/htmlnotebook.html) lecture is available at [http://github.com/jrjohansson/scientific-python-lectures](http://github.com/jrjohansson/scientific-python-lectures).\n",
      "\n",
      "The other notebooks in this lecture series are indexed at [http://jrjohansson.github.com](http://jrjohansson.github.com)."
     ]
    },
    {
     "cell_type": "code",
     "collapsed": false,
     "input": [
      "%pylab inline"
     ],
     "language": "python",
     "metadata": {},
     "outputs": [],
     "prompt_number": 1
    },
    {
     "cell_type": "markdown",
     "metadata": {},
     "source": [
      "## multiprocessing\n",
      "\n",
      "Python has a built-in process-based library for concurrent computing, called `multiprocessing`. "
     ]
    },
    {
     "cell_type": "code",
     "collapsed": false,
     "input": [
      "import multiprocessing\n",
      "import os\n",
      "import numpy"
     ],
     "language": "python",
     "metadata": {},
     "outputs": [],
     "prompt_number": 2
    },
    {
     "cell_type": "code",
     "collapsed": false,
     "input": [
      "def task(args):\n",
      "    print \"PID =\", os.getpid(), \", args =\", args\n",
      "    \n",
      "    return os.getpid(), args"
     ],
     "language": "python",
     "metadata": {},
     "outputs": [],
     "prompt_number": 3
    },
    {
     "cell_type": "code",
     "collapsed": false,
     "input": [
      "task(\"test\")"
     ],
     "language": "python",
     "metadata": {},
     "outputs": [
      {
       "output_type": "stream",
       "stream": "stdout",
       "text": [
        "PID = 22959 , args = test\n"
       ]
      },
      {
       "output_type": "pyout",
       "prompt_number": 4,
       "text": [
        "(22959, 'test')"
       ]
      }
     ],
     "prompt_number": 4
    },
    {
     "cell_type": "code",
     "collapsed": false,
     "input": [
      "pool = multiprocessing.Pool(processes=4)"
     ],
     "language": "python",
     "metadata": {},
     "outputs": [],
     "prompt_number": 5
    },
    {
     "cell_type": "code",
     "collapsed": false,
     "input": [
      "result = pool.map(task, [1,2,3,4,5,6,7,8])"
     ],
     "language": "python",
     "metadata": {},
     "outputs": [],
     "prompt_number": 6
    },
    {
     "cell_type": "code",
     "collapsed": false,
     "input": [
      "result"
     ],
     "language": "python",
     "metadata": {},
     "outputs": [
      {
       "output_type": "pyout",
       "prompt_number": 7,
       "text": [
        "[(22978, 1),\n",
        " (22978, 2),\n",
        " (22978, 3),\n",
        " (22978, 4),\n",
        " (22978, 5),\n",
        " (22978, 6),\n",
        " (22978, 7),\n",
        " (22978, 8)]"
       ]
      }
     ],
     "prompt_number": 7
    },
    {
     "cell_type": "markdown",
     "metadata": {},
     "source": [
      "The multiprocessing package is very useful for highly parallel tasks that do not need to communicate with each other, other than when sending the initial data to the pool of processes and when and collecting the results. "
     ]
    },
    {
     "cell_type": "markdown",
     "metadata": {},
     "source": [
      "## IPython parallel\n",
      "\n",
      "IPython includes a very interesting and versatile parallel computing environment, which is very easy to use. It builds on the concept of ipython engines and controllers, that one can connect to and submit tasks to. To get started using this framework for parallel computing, one first have to start up an IPython cluster of engines. The easiest way to do this is to use the `ipcluster` command,\n",
      "\n",
      "    $ ipcluster start -n 4\n",
      "\n",
      "Or, alternatively, from the \"Clusters\" tab on the IPython notebook dashboard page. This will start 4 IPython engines on the current host, which is useful for multicore systems. It is also possible to setup IPython clusters that spans over many nodes in a computing cluster. For more information about possible use cases, see the official documentation [Using IPython for parallel computing](http://ipython.org/ipython-doc/dev/parallel/).\n",
      "\n",
      "To use the IPython cluster in our Python programs or notebooks, we start by creating an instance of `IPython.parallel.Client`:"
     ]
    },
    {
     "cell_type": "code",
     "collapsed": false,
     "input": [
      "from IPython.parallel import Client"
     ],
     "language": "python",
     "metadata": {},
     "outputs": [],
     "prompt_number": 8
    },
    {
     "cell_type": "code",
     "collapsed": false,
     "input": [
      "cli = Client()"
     ],
     "language": "python",
     "metadata": {},
     "outputs": [],
     "prompt_number": 9
    },
    {
     "cell_type": "markdown",
     "metadata": {},
     "source": [
      "Using the 'ids' attribute we can retreive a list of ids for the IPython engines in the cluster:"
     ]
    },
    {
     "cell_type": "code",
     "collapsed": false,
     "input": [
      "cli.ids"
     ],
     "language": "python",
     "metadata": {},
     "outputs": [
      {
       "output_type": "pyout",
       "prompt_number": 10,
       "text": [
        "[0, 1, 2, 3]"
       ]
      }
     ],
     "prompt_number": 10
    },
    {
     "cell_type": "markdown",
     "metadata": {},
     "source": [
      "Each of these engines are ready to execute tasks. We can selectively run code on individual engines:"
     ]
    },
    {
     "cell_type": "code",
     "collapsed": false,
     "input": [
      "def getpid():\n",
      "    \"\"\" return the unique ID of the current process \"\"\"\n",
      "    import os\n",
      "    return os.getpid()"
     ],
     "language": "python",
     "metadata": {},
     "outputs": [],
     "prompt_number": 11
    },
    {
     "cell_type": "code",
     "collapsed": false,
     "input": [
      "# first try it on the notebook process\n",
      "getpid()"
     ],
     "language": "python",
     "metadata": {},
     "outputs": [
      {
       "output_type": "pyout",
       "prompt_number": 12,
       "text": [
        "22959"
       ]
      }
     ],
     "prompt_number": 12
    },
    {
     "cell_type": "code",
     "collapsed": false,
     "input": [
      "# run it on one of the engines\n",
      "cli[0].apply_sync(getpid)"
     ],
     "language": "python",
     "metadata": {},
     "outputs": [
      {
       "output_type": "pyout",
       "prompt_number": 13,
       "text": [
        "22163"
       ]
      }
     ],
     "prompt_number": 13
    },
    {
     "cell_type": "code",
     "collapsed": false,
     "input": [
      "# run it on ALL of the engines at the same time\n",
      "cli[:].apply_sync(getpid)"
     ],
     "language": "python",
     "metadata": {},
     "outputs": [
      {
       "output_type": "pyout",
       "prompt_number": 14,
       "text": [
        "[22163, 22164, 22169, 22174]"
       ]
      }
     ],
     "prompt_number": 14
    },
    {
     "cell_type": "markdown",
     "metadata": {},
     "source": [
      "We can use this cluster of IPython engines to execute tasks in parallel. The easiest way to dispatch a function to different engines is to define the function with the decorator:\n",
      "\n",
      "    @view.parallel(block=True)\n",
      "\n",
      "Here, `view` is supposed to be the engine pool which we want to dispatch the function (task). Once our function is defined this way we can dispatch it to the engine using the `map` method in the resulting class (in Python, a decorator is a language construct which automatically wraps the function into another function or a class).\n",
      "\n",
      "To see how all this works, lets look at an example:"
     ]
    },
    {
     "cell_type": "code",
     "collapsed": false,
     "input": [
      "dview = cli[:]"
     ],
     "language": "python",
     "metadata": {},
     "outputs": [],
     "prompt_number": 15
    },
    {
     "cell_type": "code",
     "collapsed": false,
     "input": [
      "@dview.parallel(block=True)\n",
      "def dummy_task(delay):\n",
      "    \"\"\" a dummy task that takes 'delay' seconds to finish \"\"\"\n",
      "    import os, time\n",
      "\n",
      "    t0 = time.time()\n",
      "    pid = os.getpid()\n",
      "    time.sleep(delay)\n",
      "    t1 = time.time()\n",
      "    \n",
      "    return [pid, t0, t1]"
     ],
     "language": "python",
     "metadata": {},
     "outputs": [],
     "prompt_number": 16
    },
    {
     "cell_type": "code",
     "collapsed": false,
     "input": [
      "# generate random delay times for dummy tasks\n",
      "delay_times = numpy.random.rand(4)"
     ],
     "language": "python",
     "metadata": {},
     "outputs": [],
     "prompt_number": 17
    },
    {
     "cell_type": "markdown",
     "metadata": {},
     "source": [
      "Now, to map the function `dummy_task` to the random delay time data, we use the `map` method in `dummy_task`:"
     ]
    },
    {
     "cell_type": "code",
     "collapsed": false,
     "input": [
      "dummy_task.map(delay_times)"
     ],
     "language": "python",
     "metadata": {},
     "outputs": [
      {
       "output_type": "pyout",
       "prompt_number": 18,
       "text": [
        "[[22163, 1361240989.803429, 1361240989.890851],\n",
        " [22164, 1361240989.805938, 1361240990.295277],\n",
        " [22169, 1361240989.808163, 1361240990.723319],\n",
        " [22174, 1361240989.811059, 1361240990.506656]]"
       ]
      }
     ],
     "prompt_number": 18
    },
    {
     "cell_type": "markdown",
     "metadata": {},
     "source": [
      "Let's do the same thing again with many more tasks and visualize how these tasks are executed on different IPython engines:"
     ]
    },
    {
     "cell_type": "code",
     "collapsed": false,
     "input": [
      "def visualize_tasks(results):\n",
      "    res = numpy.array(results)\n",
      "    fig, ax = subplots(figsize=(10, res.shape[1]))\n",
      "    \n",
      "    yticks = []\n",
      "    yticklabels = []\n",
      "    tmin = min(res[:,1])\n",
      "    for n, pid in enumerate(numpy.unique(res[:,0])):\n",
      "        yticks.append(n)\n",
      "        yticklabels.append(\"%d\" % pid)\n",
      "        for m in numpy.where(res[:,0] == pid)[0]:\n",
      "            ax.add_patch(Rectangle((res[m,1] - tmin, n-0.25),\n",
      "                         res[m,2] - res[m,1], 0.5, color=\"green\", alpha=0.5))\n",
      "        \n",
      "    ax.set_ylim(-.5, n+.5)\n",
      "    ax.set_xlim(0, max(res[:,2]) - tmin + 0.)\n",
      "    ax.set_yticks(yticks)\n",
      "    ax.set_yticklabels(yticklabels)\n",
      "    ax.set_ylabel(\"PID\")\n",
      "    ax.set_xlabel(\"seconds\")"
     ],
     "language": "python",
     "metadata": {},
     "outputs": [],
     "prompt_number": 19
    },
    {
     "cell_type": "code",
     "collapsed": false,
     "input": [
      "delay_times = numpy.random.rand(64)"
     ],
     "language": "python",
     "metadata": {},
     "outputs": [],
     "prompt_number": 20
    },
    {
     "cell_type": "code",
     "collapsed": false,
     "input": [
      "result = dummy_task.map(delay_times)\n",
      "visualize_tasks(result)"
     ],
     "language": "python",
     "metadata": {},
     "outputs": [
      {
       "output_type": "display_data",
       "png": "[encoded data removed]"
      }
     ],
     "prompt_number": 21
    },
    {
     "cell_type": "markdown",
     "metadata": {},
     "source": [
      "That's a nice and easy parallelization! We can see that we utilize all four engines quite well.\n",
      "\n",
      "But one short coming so far is that the tasks are not load balanced, so one engine might be idle while others still have more tasks to work on.\n",
      "\n",
      "However, the IPython parallel environment provides a number of alternative \"views\" of the engine cluster, and there is a view that provides load balancing as well (above we have used the \"direct view\", which is why we called it \"dview\").\n",
      "\n",
      "To obtain a load balanced view we simply use the `load_balanced_view` method in the engine cluster client instance `cli`:"
     ]
    },
    {
     "cell_type": "code",
     "collapsed": false,
     "input": [
      "lbview = cli.load_balanced_view()"
     ],
     "language": "python",
     "metadata": {},
     "outputs": [],
     "prompt_number": 22
    },
    {
     "cell_type": "code",
     "collapsed": false,
     "input": [
      "@lbview.parallel(block=True)\n",
      "def dummy_task_load_balanced(delay):\n",
      "    \"\"\" a dummy task that takes 'delay' seconds to finish \"\"\"\n",
      "    import os, time\n",
      "\n",
      "    t0 = time.time()\n",
      "    pid = os.getpid()\n",
      "    time.sleep(delay)\n",
      "    t1 = time.time()\n",
      "    \n",
      "    return [pid, t0, t1]"
     ],
     "language": "python",
     "metadata": {},
     "outputs": [],
     "prompt_number": 23
    },
    {
     "cell_type": "code",
     "collapsed": false,
     "input": [
      "result = dummy_task_load_balanced.map(delay_times)\n",
      "visualize_tasks(result)"
     ],
     "language": "python",
     "metadata": {},
     "outputs": [
      {
       "output_type": "display_data",
       "png": "[encoded data removed]"
      }
     ],
     "prompt_number": 24
    },
    {
     "cell_type": "markdown",
     "metadata": {},
     "source": [
      "In the example above we can see that the engine cluster is a bit more efficiently used, and the time to completion is shorter than in the previous example."
     ]
    },
    {
     "cell_type": "markdown",
     "metadata": {},
     "source": [
      "### Further reading\n",
      "\n",
      "There are many other ways to use the IPython parallel environment. The official documentation has a nice guide:\n",
      "\n",
      "* http://ipython.org/ipython-doc/dev/parallel/"
     ]
    },
    {
     "cell_type": "markdown",
     "metadata": {},
     "source": [
      "## MPI \n",
      "\n",
      "When more communication between processes is required, sophisticated solutions such as MPI and OpenMP are often needed. MPI is process based parallel processing library/protocol, and can be used in Python programs through the `mpi4py` package:\n",
      "\n",
      "http://mpi4py.scipy.org/\n",
      "\n",
      "To use the `mpi4py` package we include `MPI` from `mpi4py`:\n",
      "\n",
      "    from mpi4py import MPI\n",
      "\n",
      "A MPI python program must be started using the `mpirun -n N` command, where `N` is the number of processes that should be included in the process group.\n",
      "\n",
      "Note that the IPython parallel enviroment also has support for MPI, but to begin with we will use `mpi4py` and the `mpirun` in the follow examples."
     ]
    },
    {
     "cell_type": "markdown",
     "metadata": {},
     "source": [
      "### Example 1"
     ]
    },
    {
     "cell_type": "code",
     "collapsed": false,
     "input": [
      "%%file mpitest.py\n",
      "\n",
      "from mpi4py import MPI\n",
      "\n",
      "comm = MPI.COMM_WORLD\n",
      "rank = comm.Get_rank()\n",
      "\n",
      "if rank == 0:\n",
      "   data = [1.0, 2.0, 3.0, 4.0]\n",
      "   comm.send(data, dest=1, tag=11)\n",
      "elif rank == 1:\n",
      "   data = comm.recv(source=0, tag=11)\n",
      "    \n",
      "print \"rank =\", rank, \", data =\", data"
     ],
     "language": "python",
     "metadata": {},
     "outputs": [
      {
       "output_type": "stream",
       "stream": "stdout",
       "text": [
        "Overwriting mpitest.py\n"
       ]
      }
     ],
     "prompt_number": 25
    },
    {
     "cell_type": "code",
     "collapsed": false,
     "input": [
      "!mpirun -n 2 python mpitest.py"
     ],
     "language": "python",
     "metadata": {},
     "outputs": [
      {
       "output_type": "stream",
       "stream": "stdout",
       "text": [
        "rank = 0 , data = [1.0, 2.0, 3.0, 4.0]\r\n",
        "rank = 1 , data = [1.0, 2.0, 3.0, 4.0]\r\n"
       ]
      }
     ],
     "prompt_number": 26
    },
    {
     "cell_type": "markdown",
     "metadata": {},
     "source": [
      "### Example 2\n",
      "\n",
      "Send a numpy array from one process to another:"
     ]
    },
    {
     "cell_type": "code",
     "collapsed": false,
     "input": [
      "%%file mpi-numpy-array.py\n",
      "\n",
      "from mpi4py import MPI\n",
      "import numpy\n",
      "\n",
      "comm = MPI.COMM_WORLD\n",
      "rank = comm.Get_rank()\n",
      "\n",
      "if rank == 0:\n",
      "   data = numpy.random.rand(10)\n",
      "   comm.Send(data, dest=1, tag=13)\n",
      "elif rank == 1:\n",
      "   data = numpy.empty(10, dtype=numpy.float64)\n",
      "   comm.Recv(data, source=0, tag=13)\n",
      "    \n",
      "print \"rank =\", rank, \", data =\", data"
     ],
     "language": "python",
     "metadata": {},
     "outputs": [
      {
       "output_type": "stream",
       "stream": "stdout",
       "text": [
        "Overwriting mpi-numpy-array.py"
       ]
      },
      {
       "output_type": "stream",
       "stream": "stdout",
       "text": [
        "\n"
       ]
      }
     ],
     "prompt_number": 27
    },
    {
     "cell_type": "code",
     "collapsed": false,
     "input": [
      "!mpirun -n 2 python mpi-numpy-array.py"
     ],
     "language": "python",
     "metadata": {},
     "outputs": [
      {
       "output_type": "stream",
       "stream": "stdout",
       "text": [
        "rank = 1 , data = [ 0.29017907  0.1301338   0.0335738   0.61340947  0.69981434  0.0110428\r\n",
        "  0.40157161  0.04627437  0.65849675  0.49130351]\r\n",
        "rank = 0 , data = [ 0.29017907  0.1301338   0.0335738   0.61340947  0.69981434  0.0110428\r\n",
        "  0.40157161  0.04627437  0.65849675  0.49130351]\r\n"
       ]
      }
     ],
     "prompt_number": 28
    },
    {
     "cell_type": "markdown",
     "metadata": {},
     "source": [
      "### Example 3"
     ]
    },
    {
     "cell_type": "code",
     "collapsed": false,
     "input": [
      "%%file mpi-matrix-vector.py\n",
      "# example from: http://mpi4py.scipy.org/docs/usrman/tutorial.html\n",
      "\n",
      "from mpi4py import MPI\n",
      "import numpy\n",
      "\n",
      "def matvec(comm, A, x):\n",
      "    m = A.shape[0] # local rows\n",
      "    p = comm.Get_size()\n",
      "    xg = numpy.zeros(m*p, dtype='d')\n",
      "    comm.Allgather([x,  MPI.DOUBLE], [xg, MPI.DOUBLE])\n",
      "    y = numpy.dot(A, xg)\n",
      "    return y\n",
      "\n",
      "comm = MPI.COMM_WORLD\n",
      "rank = comm.Get_rank()\n",
      "\n",
      "A = numpy.random.rand(5,5)\n",
      "x = numpy.random.rand(5)\n",
      "y_mpi = matvec(comm, A, x)\n",
      "    \n",
      "if rank == 0:\n",
      "\n",
      "    y = numpy.dot(A, x)\n",
      "\n",
      "    print \"y =\", y\n",
      "\n",
      "    print \"y_mpi =\", y_mpi"
     ],
     "language": "python",
     "metadata": {},
     "outputs": [
      {
       "output_type": "stream",
       "stream": "stdout",
       "text": [
        "Overwriting mpi-matrix-vector.py"
       ]
      },
      {
       "output_type": "stream",
       "stream": "stdout",
       "text": [
        "\n"
       ]
      }
     ],
     "prompt_number": 29
    },
    {
     "cell_type": "code",
     "collapsed": false,
     "input": [
      "!mpirun -n 1 python mpi-matrix-vector.py"
     ],
     "language": "python",
     "metadata": {},
     "outputs": [
      {
       "output_type": "stream",
       "stream": "stdout",
       "text": [
        "y = [ 1.17583156  1.21950954  1.78492742  1.10535307  1.42770478]\r\n",
        "y_mpi = [ 1.17583156  1.21950954  1.78492742  1.10535307  1.42770478]\r\n"
       ]
      }
     ],
     "prompt_number": 30
    },
    {
     "cell_type": "markdown",
     "metadata": {},
     "source": [
      "### Example 4"
     ]
    },
    {
     "cell_type": "code",
     "collapsed": false,
     "input": [
      "# prepare some random data\n",
      "a = numpy.random.rand(100)\n",
      "numpy.save(\"random-vector.npy\", a)"
     ],
     "language": "python",
     "metadata": {},
     "outputs": [],
     "prompt_number": 31
    },
    {
     "cell_type": "code",
     "collapsed": false,
     "input": [
      "%%file mpi-psum.py\n",
      "\n",
      "from mpi4py import MPI\n",
      "import numpy as np\n",
      "\n",
      "def psum(a):\n",
      "    r = MPI.COMM_WORLD.Get_rank()\n",
      "    size = MPI.COMM_WORLD.Get_size()\n",
      "    m = len(a) / size\n",
      "    locsum = np.sum(a[r*m:(r+1)*m])\n",
      "    rcvBuf = np.array(0.0, 'd')\n",
      "    MPI.COMM_WORLD.Allreduce([locsum, MPI.DOUBLE], [rcvBuf, MPI.DOUBLE], op=MPI.SUM)\n",
      "    return rcvBuf\n",
      "\n",
      "a = np.load(\"random-vector.npy\")\n",
      "s = psum(a)\n",
      "\n",
      "if MPI.COMM_WORLD.Get_rank() == 0:\n",
      "    print \"sum =\", s, \", numpy sum =\", a.sum()"
     ],
     "language": "python",
     "metadata": {},
     "outputs": [
      {
       "output_type": "stream",
       "stream": "stdout",
       "text": [
        "Overwriting mpi-psum.py"
       ]
      },
      {
       "output_type": "stream",
       "stream": "stdout",
       "text": [
        "\n"
       ]
      }
     ],
     "prompt_number": 32
    },
    {
     "cell_type": "code",
     "collapsed": false,
     "input": [
      "!mpirun -n 4 python mpi-psum.py"
     ],
     "language": "python",
     "metadata": {},
     "outputs": [
      {
       "output_type": "stream",
       "stream": "stdout",
       "text": [
        "sum = 51.8048933094 , numpy sum = 51.8048933094\r\n"
       ]
      }
     ],
     "prompt_number": 33
    },
    {
     "cell_type": "markdown",
     "metadata": {},
     "source": [
      "### Further reading\n",
      "\n",
      "* http://mpi4py.scipy.org\n",
      "\n",
      "* http://mpi4py.scipy.org/docs/usrman/tutorial.html\n",
      "\n",
      "* https://computing.llnl.gov/tutorials/mpi/"
     ]
    },
    {
     "cell_type": "markdown",
     "metadata": {},
     "source": [
      "## OpenMP\n",
      "\n",
      "What about OpenMP? OpenMP is a standard and widely used thread-based parallel API that unfortunaltely is **not** useful in Python. The reason is that the CPython implementation use a global interpreter lock, making it impossible to simultaneously run several Python threads. Threads are therefore not useful for parallel computing in Python, unless it is only used to wrap compiled code that do the OpenMP parallelization (Numpy does something like that). \n",
      "\n",
      "This is clearly a limitation in the Python interpreter, and as a consequence all parallelization in Python must use processes (not threads)."
     ]
    },
    {
     "cell_type": "markdown",
     "metadata": {},
     "source": [
      "## OpenCL\n",
      "\n",
      "OpenCL is an API for heterogenous computing, for example using GPUs for numerical computations. There is a python package called `pyopencl` that allows OpenCL code to be compiled, loaded and executed on the compute units completely from within Python. This is a nice way to work with OpenCL, because the time-consuming computations should be done on the compute units in compiled code, and in this Python only server as a control language. "
     ]
    },
    {
     "cell_type": "code",
     "collapsed": false,
     "input": [
      "%%file opencl-dense-mv.py\n",
      "\n",
      "import pyopencl as cl\n",
      "import numpy\n",
      "import time\n",
      "\n",
      "# problem size\n",
      "n = 10000\n",
      "\n",
      "# platform\n",
      "platform_list = cl.get_platforms()\n",
      "platform = platform_list[0]\n",
      "\n",
      "# device\n",
      "device_list = platform.get_devices()\n",
      "device = device_list[0]\n",
      "\n",
      "if False:\n",
      "    print(\"Platform name:\" + platform.name)\n",
      "    print(\"Platform version:\" + platform.version)\n",
      "    print(\"Device name:\" + device.name)\n",
      "    print(\"Device type:\" + cl.device_type.to_string(device.type))\n",
      "    print(\"Device memory: \" + str(device.global_mem_size//1024//1024) + ' MB')\n",
      "    print(\"Device max clock speed:\" + str(device.max_clock_frequency) + ' MHz')\n",
      "    print(\"Device compute units:\" + str(device.max_compute_units))\n",
      "\n",
      "# context\n",
      "ctx = cl.Context([device]) # or we can use cl.create_some_context()\n",
      "\n",
      "# command queue\n",
      "queue = cl.CommandQueue(ctx)\n",
      "\n",
      "# kernel\n",
      "KERNEL_CODE = \"\"\"\n",
      "//\n",
      "// Matrix-vector multiplication: r = m * v\n",
      "//\n",
      "#define N %(mat_size)d\n",
      "__kernel\n",
      "void dmv_cl(__global float *m, __global float *v, __global float *r)\n",
      "{\n",
      "    int i, gid = get_global_id(0);\n",
      "    \n",
      "    r[gid] = 0;\n",
      "    for (i = 0; i < N; i++)\n",
      "    {\n",
      "        r[gid] += m[gid * N + i] * v[i];\n",
      "    }\n",
      "}\n",
      "\"\"\"\n",
      "\n",
      "kernel_params = {\"mat_size\": n}\n",
      "program = cl.Program(ctx, KERNEL_CODE % kernel_params).build()\n",
      "\n",
      "# data\n",
      "A = numpy.random.rand(n, n)\n",
      "x = numpy.random.rand(n, 1)\n",
      "\n",
      "# host buffers\n",
      "h_y = numpy.empty(numpy.shape(x)).astype(numpy.float32)\n",
      "h_A = numpy.real(A).astype(numpy.float32)\n",
      "h_x = numpy.real(x).astype(numpy.float32)\n",
      "\n",
      "# device buffers\n",
      "mf = cl.mem_flags\n",
      "d_A_buf = cl.Buffer(ctx, mf.READ_ONLY | mf.COPY_HOST_PTR, hostbuf=h_A)\n",
      "d_x_buf = cl.Buffer(ctx, mf.READ_ONLY | mf.COPY_HOST_PTR, hostbuf=h_x)\n",
      "d_y_buf = cl.Buffer(ctx, mf.WRITE_ONLY, size=h_y.nbytes)\n",
      "\n",
      "# execute OpenCL code\n",
      "t0 = time.time()\n",
      "event = program.dmv_cl(queue, h_y.shape, None, d_A_buf, d_x_buf, d_y_buf)\n",
      "event.wait()\n",
      "cl.enqueue_copy(queue, h_y, d_y_buf)\n",
      "t1 = time.time()\n",
      "\n",
      "print \"opencl elapsed time =\", (t1-t0)\n",
      "\n",
      "# Same calculation with numpy\n",
      "t0 = time.time()\n",
      "y = numpy.dot(h_A, h_x)\n",
      "t1 = time.time()\n",
      "\n",
      "print \"numpy elapsed time =\", (t1-t0)\n",
      "\n",
      "# see if the results are the same\n",
      "print \"max deviation =\", numpy.abs(y-h_y).max()"
     ],
     "language": "python",
     "metadata": {},
     "outputs": [
      {
       "output_type": "stream",
       "stream": "stdout",
       "text": [
        "Overwriting opencl-dense-mv.py"
       ]
      },
      {
       "output_type": "stream",
       "stream": "stdout",
       "text": [
        "\n"
       ]
      }
     ],
     "prompt_number": 38
    },
    {
     "cell_type": "code",
     "collapsed": false,
     "input": [
      "!python opencl-dense-mv.py"
     ],
     "language": "python",
     "metadata": {},
     "outputs": [
      {
       "output_type": "stream",
       "stream": "stdout",
       "text": [
        "/usr/local/lib/python2.7/dist-packages/pyopencl-2012.1-py2.7-linux-x86_64.egg/pyopencl/__init__.py:36: CompilerWarning: Non-empty compiler output encountered. Set the environment variable PYOPENCL_COMPILER_OUTPUT=1 to see more.\r\n",
        "  \"to see more.\", CompilerWarning)\r\n"
       ]
      },
      {
       "output_type": "stream",
       "stream": "stdout",
       "text": [
        "opencl elapsed time = 0.110778093338\r\n"
       ]
      },
      {
       "output_type": "stream",
       "stream": "stdout",
       "text": [
        "numpy elapsed time = 0.141111135483\r\n",
        "max deviation = 0.0119629\r\n"
       ]
      }
     ],
     "prompt_number": 39
    },
    {
     "cell_type": "markdown",
     "metadata": {},
     "source": [
      "### Further reading\n",
      "\n",
      "* http://mathema.tician.de/software/pyopencl"
     ]
    }
   ],
   "metadata": {}
  }
 ]
}