{
 "metadata": {
  "name": "",
  "signature": "sha256:50dec51e2d2443c96fa76c4b031cb21c3753b9100182a59e6b2105e0c2c2fc79"
 },
 "nbformat": 3,
 "nbformat_minor": 0,
 "worksheets": [
  {
   "cells": [
    {
     "cell_type": "heading",
     "level": 1,
     "metadata": {},
     "source": [
      "PyMADlib"
     ]
    },
    {
     "cell_type": "markdown",
     "metadata": {},
     "source": [
      "PyMADlib (https://github.com/gopivotal/pymadlib) is a Python wrapper to MADlib - the popular library of parallel in-database algorithms.\n",
      "It currently has wrappers for 5 of MADlib's algorithms including:\n",
      "1. Linear regression\n",
      "1. Logistic Regression\n",
      "1. SVM (regression & classification)\n",
      "1. K-Means \n",
      "1. LDA \n",
      "\n",
      "Refer [MADlib User Docs](http://doc.madlib.net/v0.5/ ) for MADlib's user documentation.\n",
      "\n",
      "We can employ it to push the heavy number crunching to MADlib, while allowing us to work with awesomeness of Python in the front end."
     ]
    },
    {
     "cell_type": "code",
     "collapsed": false,
     "input": [
      "from pymadlib.pymadlib import *\n",
      "from pymadlib import example\n",
      "from pymadlib.example import *"
     ],
     "language": "python",
     "metadata": {},
     "outputs": [],
     "prompt_number": 12
    },
    {
     "cell_type": "code",
     "collapsed": false,
     "input": [
      "conn_str = '''host='{hostname}' port ='{port}' dbname='{database}' user='{username}' password='{password}' '''\n",
      "#conn_str = conn_str.format(hostname='localhost',database='pivotal_test',port='5433',username='gpadmin',password='gpadmin')\n",
      "conn_str = conn_str.format(hostname='phd3',database='gpadmin',port='5432',username='gpadmin',password='changeme')"
     ],
     "language": "python",
     "metadata": {},
     "outputs": [],
     "prompt_number": 13
    },
    {
     "cell_type": "code",
     "collapsed": false,
     "input": [
      "#PyMADlib is compatible with only MADlib v0.5, so we need to explicitly specify the MADlib schema.\n",
      "#We have installed both MADlib 1.3 and MADlib 0.5 in this VM.\n",
      "conn = DBConnect(conn_str=conn_str,madlib_schema='madlib')"
     ],
     "language": "python",
     "metadata": {},
     "outputs": [],
     "prompt_number": 14
    },
    {
     "cell_type": "heading",
     "level": 3,
     "metadata": {},
     "source": [
      "Linear Regression"
     ]
    },
    {
     "cell_type": "code",
     "collapsed": false,
     "input": [
      "#View Documentation\n",
      "mdl = LinearRegression(conn)\n",
      "print(mdl.train.__doc__)"
     ],
     "language": "python",
     "metadata": {},
     "outputs": [
      {
       "output_type": "stream",
       "stream": "stdout",
       "text": [
        " \n",
        "              Given train a linear regression model on the specified table \n",
        "              for the given set of independent and dependent variables \n",
        "              Inputs :\n",
        "              ========\n",
        "              table_name : (String) input table name\n",
        "              indep : (list of strings) the independent variables to be used to build the model on\n",
        "              dep : (string) the class label\n",
        "              \n",
        "              Output :\n",
        "              ========\n",
        "              The Model coefficients, r2, p_values and t_stats\n",
        "              The function also returns the model object.\n",
        "              \n",
        "            \n"
       ]
      }
     ],
     "prompt_number": 15
    },
    {
     "cell_type": "code",
     "collapsed": false,
     "input": [
      "#Train Model and Score\n",
      "lreg = LinearRegression(conn)\n",
      "mdl_dict, mdl_params = lreg.train('public.wine_training_set',['1','alcohol','proline','hue','color_intensity','flavanoids'],'quality')\n",
      "#Show model params\n",
      "mdl_params\n",
      "#Now do prediction\n",
      "predictions = lreg.predict('public.wine_test_set','quality')\n",
      "#Show prediction results\n",
      "predictions.head()"
     ],
     "language": "python",
     "metadata": {},
     "outputs": [
      {
       "output_type": "stream",
       "stream": "stdout",
       "text": [
        "\n",
        "statement : \n",
        "                      select (madlib.linregr(quality,array[1,alcohol,proline,hue,color_intensity,flavanoids])).* \n",
        "                      from public.wine_training_set\n",
        "                   \n",
        "\n",
        "\n",
        "----------------------------------------------------------------------------------------------------------------------------------------------------------------"
       ]
      },
      {
       "output_type": "stream",
       "stream": "stdout",
       "text": [
        "\n",
        "             Model Parameters\n",
        "----------------------------------------------------------------------------------------------------------------------------------------------------------------\n",
        "std_err            \t |  [176.451270245324, 34.9120997622201, 40.7792991586653, 7.79463508830994, 33.7169283855234, 42.0751829713597]\n",
        "condition_no       \t |  82.344109303\n",
        "r2                 \t |  0.667006811765\n",
        "coef               \t |  [1416.22464229883, -361.192816094789, -88.8425299896197, 58.4638933049131, -23.0330507155174, 1.19714448386443]\n",
        "p_values           \t |  [7.08338010642351e-13, 2.11419423634673e-18, 0.0312824887163677, 1.13494678065373e-11, 0.495819848494133, 0.977347736470826]\n",
        "vcov               \t |  [[31135.0507711883, -5397.64185395094, -4868.88523608344, -406.20260751385, 419.229920585271, -2698.37804561239], [-5397.64185395094, 1218.85470980721, 693.916541243848, -10.4452831354488, -44.9803184609641, 568.426224199841], [-4868.88523608344, 693.916541243848, 1662.95123987192, 144.404091763318, -291.113564639745, -475.957992744479], [-406.202607513849, -10.4452831354488, 144.404091763318, 60.7563361599125, -34.6410693564425, -87.1070985011172], [419.229920585271, -44.9803184609641, -291.113564639745, -34.6410693564425, 1136.83125975452, -516.337390903056], [-2698.37804561239, 568.426224199841, -475.957992744479, -87.1070985011173, -516.337390903056, 1770.3210220734]]\n",
        "num_processed      \t |  128\n",
        "t_stats            \t |  [8.02615158468299, -10.3457774970514, -2.17861836330116, 7.50052986990947, -0.683130160972991, 0.02845250808961]\n",
        "----------------------------------------------------------------------------------------------------------------------------------------------------------------\n",
        "\n"
       ]
      },
      {
       "ename": "ValueError",
       "evalue": "too many values to unpack",
       "output_type": "pyerr",
       "traceback": [
        "\u001b[0;31m---------------------------------------------------------------------------\u001b[0m\n\u001b[0;31mValueError\u001b[0m                                Traceback (most recent call last)",
        "\u001b[0;32m<ipython-input-16-18b97b2ac350>\u001b[0m in \u001b[0;36m<module>\u001b[0;34m()\u001b[0m\n\u001b[1;32m      1\u001b[0m \u001b[0;31m#Train Model and Score\u001b[0m\u001b[0;34m\u001b[0m\u001b[0;34m\u001b[0m\u001b[0m\n\u001b[1;32m      2\u001b[0m \u001b[0mlreg\u001b[0m \u001b[0;34m=\u001b[0m \u001b[0mLinearRegression\u001b[0m\u001b[0;34m(\u001b[0m\u001b[0mconn\u001b[0m\u001b[0;34m)\u001b[0m\u001b[0;34m\u001b[0m\u001b[0m\n\u001b[0;32m----> 3\u001b[0;31m \u001b[0mmdl_dict\u001b[0m\u001b[0;34m,\u001b[0m \u001b[0mmdl_params\u001b[0m \u001b[0;34m=\u001b[0m \u001b[0mlreg\u001b[0m\u001b[0;34m.\u001b[0m\u001b[0mtrain\u001b[0m\u001b[0;34m(\u001b[0m\u001b[0;34m'public.wine_training_set'\u001b[0m\u001b[0;34m,\u001b[0m\u001b[0;34m[\u001b[0m\u001b[0;34m'1'\u001b[0m\u001b[0;34m,\u001b[0m\u001b[0;34m'alcohol'\u001b[0m\u001b[0;34m,\u001b[0m\u001b[0;34m'proline'\u001b[0m\u001b[0;34m,\u001b[0m\u001b[0;34m'hue'\u001b[0m\u001b[0;34m,\u001b[0m\u001b[0;34m'color_intensity'\u001b[0m\u001b[0;34m,\u001b[0m\u001b[0;34m'flavanoids'\u001b[0m\u001b[0;34m]\u001b[0m\u001b[0;34m,\u001b[0m\u001b[0;34m'quality'\u001b[0m\u001b[0;34m)\u001b[0m\u001b[0;34m\u001b[0m\u001b[0m\n\u001b[0m\u001b[1;32m      4\u001b[0m \u001b[0;31m#Show model params\u001b[0m\u001b[0;34m\u001b[0m\u001b[0;34m\u001b[0m\u001b[0m\n\u001b[1;32m      5\u001b[0m \u001b[0mmdl_params\u001b[0m\u001b[0;34m\u001b[0m\u001b[0m\n",
        "\u001b[0;31mValueError\u001b[0m: too many values to unpack"
       ]
      }
     ],
     "prompt_number": 16
    },
    {
     "cell_type": "code",
     "collapsed": false,
     "input": [
      "#Show Scatter Matrix of Actual Vs Predicted\n",
      "from pandas.tools.plotting import scatter_matrix\n",
      "import matplotlib.pyplot as plt\n",
      "smat = scatter_matrix(predictions.get(['quality','prediction']), diagonal='kde')"
     ],
     "language": "python",
     "metadata": {},
     "outputs": [
      {
       "ename": "NameError",
       "evalue": "name 'predictions' is not defined",
       "output_type": "pyerr",
       "traceback": [
        "\u001b[0;31m---------------------------------------------------------------------------\u001b[0m\n\u001b[0;31mNameError\u001b[0m                                 Traceback (most recent call last)",
        "\u001b[0;32m<ipython-input-17-9c1dc7733d2c>\u001b[0m in \u001b[0;36m<module>\u001b[0;34m()\u001b[0m\n\u001b[1;32m      2\u001b[0m \u001b[0;32mfrom\u001b[0m \u001b[0mpandas\u001b[0m\u001b[0;34m.\u001b[0m\u001b[0mtools\u001b[0m\u001b[0;34m.\u001b[0m\u001b[0mplotting\u001b[0m \u001b[0;32mimport\u001b[0m \u001b[0mscatter_matrix\u001b[0m\u001b[0;34m\u001b[0m\u001b[0m\n\u001b[1;32m      3\u001b[0m \u001b[0;32mimport\u001b[0m \u001b[0mmatplotlib\u001b[0m\u001b[0;34m.\u001b[0m\u001b[0mpyplot\u001b[0m \u001b[0;32mas\u001b[0m \u001b[0mplt\u001b[0m\u001b[0;34m\u001b[0m\u001b[0m\n\u001b[0;32m----> 4\u001b[0;31m \u001b[0msmat\u001b[0m \u001b[0;34m=\u001b[0m \u001b[0mscatter_matrix\u001b[0m\u001b[0;34m(\u001b[0m\u001b[0mpredictions\u001b[0m\u001b[0;34m.\u001b[0m\u001b[0mget\u001b[0m\u001b[0;34m(\u001b[0m\u001b[0;34m[\u001b[0m\u001b[0;34m'quality'\u001b[0m\u001b[0;34m,\u001b[0m\u001b[0;34m'prediction'\u001b[0m\u001b[0;34m]\u001b[0m\u001b[0;34m)\u001b[0m\u001b[0;34m,\u001b[0m \u001b[0mdiagonal\u001b[0m\u001b[0;34m=\u001b[0m\u001b[0;34m'kde'\u001b[0m\u001b[0;34m)\u001b[0m\u001b[0;34m\u001b[0m\u001b[0m\n\u001b[0m",
        "\u001b[0;31mNameError\u001b[0m: name 'predictions' is not defined"
       ]
      }
     ],
     "prompt_number": 17
    },
    {
     "cell_type": "heading",
     "level": 3,
     "metadata": {},
     "source": [
      "Support for Categorical Variables"
     ]
    },
    {
     "cell_type": "markdown",
     "metadata": {},
     "source": [
      "PyMADlib has utility function to perform Pivoting of categorical variables when used in the context of algorithms which require a nominal value."
     ]
    },
    {
     "cell_type": "code",
     "collapsed": false,
     "input": [
      "#Train Linear Regression Model on a mixture of Numeric and Categorical Variables\n",
      "mdl_dict, mdl_params = lreg.train('public.auto_mpg_train',['1','height','width','length','highway_mpg','engine_size','make','fuel_type','fuel_system'],'price')\n",
      "predictions = lreg.predict('public.auto_mpg_test','price')\n",
      "#Show sample predictions\n",
      "predictions.head()"
     ],
     "language": "python",
     "metadata": {},
     "outputs": []
    },
    {
     "cell_type": "code",
     "collapsed": false,
     "input": [
      "#Display Scatter Plot of Actual Vs Predicted Values\n",
      "smat = scatter_matrix(predictions.get(['price','prediction']), diagonal='kde')"
     ],
     "language": "python",
     "metadata": {},
     "outputs": [
      {
       "metadata": {},
       "output_type": "display_data",
       "png": "[encoded data removed]",
       "text": [
        "<matplotlib.figure.Figure at 0x10b29ec10>"
       ]
      }
     ],
     "prompt_number": 8
    },
    {
     "cell_type": "heading",
     "level": 3,
     "metadata": {},
     "source": [
      "Logistic Regression"
     ]
    },
    {
     "cell_type": "code",
     "collapsed": false,
     "input": [
      "#1) Logistic Regression with Numeric Variables Alone\n",
      "log_reg = LogisticRegression(conn)\n",
      "#Train Model\n",
      "mdl_dict, mdl_params = log_reg.train('public.wine_bool_training_set','indep','quality_label')\n",
      "#Show Model Parameters\n",
      "mdl_params.head()"
     ],
     "language": "python",
     "metadata": {},
     "outputs": [
      {
       "html": [
        "<div style=\"max-height:1000px;max-width:1500px;overflow:auto;\">\n",
        "<table border=\"1\" class=\"dataframe\">\n",
        "  <thead>\n",
        "    <tr style=\"text-align: right;\">\n",
        "      <th></th>\n",
        "      <th>coef</th>\n",
        "      <th>log_likelihood</th>\n",
        "      <th>std_err</th>\n",
        "      <th>z_stats</th>\n",
        "      <th>p_values</th>\n",
        "      <th>odds_ratios</th>\n",
        "      <th>condition_no</th>\n",
        "      <th>num_iterations</th>\n",
        "    </tr>\n",
        "  </thead>\n",
        "  <tbody>\n",
        "    <tr>\n",
        "      <th>0</th>\n",
        "      <td> [3.67131782851, -2.3556530177, -0.36640132682,...</td>\n",
        "      <td>-59.664051</td>\n",
        "      <td> [2.62370220266, 0.645203905536, 0.583811938681...</td>\n",
        "      <td> [1.3992890751, -3.65102101443, -0.627601634265...</td>\n",
        "      <td> [0.161726314396, 0.000261199864726, 0.53026493...</td>\n",
        "      <td> [39.3036672396, 0.0948315596232, 0.69322453577...</td>\n",
        "      <td> 6198.907232</td>\n",
        "      <td> 6</td>\n",
        "    </tr>\n",
        "  </tbody>\n",
        "</table>\n",
        "<p>1 rows \u00d7 8 columns</p>\n",
        "</div>"
       ],
       "metadata": {},
       "output_type": "pyout",
       "prompt_number": 9,
       "text": [
        "                                                coef  log_likelihood  \\\n",
        "0  [3.67131782851, -2.3556530177, -0.36640132682,...      -59.664051   \n",
        "\n",
        "                                             std_err  \\\n",
        "0  [2.62370220266, 0.645203905536, 0.583811938681...   \n",
        "\n",
        "                                             z_stats  \\\n",
        "0  [1.3992890751, -3.65102101443, -0.627601634265...   \n",
        "\n",
        "                                            p_values  \\\n",
        "0  [0.161726314396, 0.000261199864726, 0.53026493...   \n",
        "\n",
        "                                         odds_ratios  condition_no  \\\n",
        "0  [39.3036672396, 0.0948315596232, 0.69322453577...   6198.907232   \n",
        "\n",
        "   num_iterations  \n",
        "0               6  \n",
        "\n",
        "[1 rows x 8 columns]"
       ]
      }
     ],
     "prompt_number": 9
    },
    {
     "cell_type": "code",
     "collapsed": false,
     "input": [
      "#2) Logistic Regression Prediction \n",
      "predictions = log_reg.predict('wine_bool_test_set','',None)\n",
      "predictions.head()\n",
      "\n",
      "#Display ROC Curve\n",
      "actual = predictions.get('quality_label')\n",
      "predicted = predictions.get('prediction')\n",
      "ROCPlot('ROC curve Logistic Reg. on Continuous Features ',['Logistic Regression'],actual,predicted) "
     ],
     "language": "python",
     "metadata": {},
     "outputs": [
      {
       "ename": "NameError",
       "evalue": "name 'log_reg' is not defined",
       "output_type": "pyerr",
       "traceback": [
        "\u001b[0;31m---------------------------------------------------------------------------\u001b[0m\n\u001b[0;31mNameError\u001b[0m                                 Traceback (most recent call last)",
        "\u001b[0;32m<ipython-input-11-bb115d9daaa3>\u001b[0m in \u001b[0;36m<module>\u001b[0;34m()\u001b[0m\n\u001b[1;32m      1\u001b[0m \u001b[0;31m#2) Logistic Regression Prediction\u001b[0m\u001b[0;34m\u001b[0m\u001b[0;34m\u001b[0m\u001b[0m\n\u001b[0;32m----> 2\u001b[0;31m \u001b[0mpredictions\u001b[0m \u001b[0;34m=\u001b[0m \u001b[0mlog_reg\u001b[0m\u001b[0;34m.\u001b[0m\u001b[0mpredict\u001b[0m\u001b[0;34m(\u001b[0m\u001b[0;34m'wine_bool_test_set'\u001b[0m\u001b[0;34m,\u001b[0m\u001b[0;34m''\u001b[0m\u001b[0;34m,\u001b[0m\u001b[0mNone\u001b[0m\u001b[0;34m)\u001b[0m\u001b[0;34m\u001b[0m\u001b[0m\n\u001b[0m\u001b[1;32m      3\u001b[0m \u001b[0mpredictions\u001b[0m\u001b[0;34m.\u001b[0m\u001b[0mhead\u001b[0m\u001b[0;34m(\u001b[0m\u001b[0;34m)\u001b[0m\u001b[0;34m\u001b[0m\u001b[0m\n\u001b[1;32m      4\u001b[0m \u001b[0;34m\u001b[0m\u001b[0m\n\u001b[1;32m      5\u001b[0m \u001b[0;31m#Display ROC Curve\u001b[0m\u001b[0;34m\u001b[0m\u001b[0;34m\u001b[0m\u001b[0m\n",
        "\u001b[0;31mNameError\u001b[0m: name 'log_reg' is not defined"
       ]
      }
     ],
     "prompt_number": 11
    },
    {
     "cell_type": "heading",
     "level": 3,
     "metadata": {},
     "source": [
      "K-Means"
     ]
    },
    {
     "cell_type": "code",
     "collapsed": false,
     "input": [
      "#Demonstrate K-Means\n",
      "example.kmeansDemo(conn)"
     ],
     "language": "python",
     "metadata": {},
     "outputs": [
      {
       "output_type": "stream",
       "stream": "stdout",
       "text": [
        "\n",
        "\n",
        "KMeans with random cluster initialization\n",
        "\n",
        "statement : \n",
        "                          select * from madlib.kmeans_random(\n",
        "                                                             'public.wine_bool_training_set',\n",
        "                                                             'indep',\n",
        "                                                             3,\n",
        "                                                             'madlib.squared_dist_norm2',\n",
        "                                                             'madlib.avg',\n",
        "                                                             20,\n",
        "                                                             0.001\n",
        "                                                             );                                                       \n",
        "                       \n",
        "\n",
        "\n",
        "----------------------------------------------------------------------------------------------------------------------------------------------------------------"
       ]
      },
      {
       "output_type": "stream",
       "stream": "stdout",
       "text": [
        "\n",
        "             Model Parameters\n",
        "----------------------------------------------------------------------------------------------------------------------------------------------------------------\n",
        "num_iterations       \t |  14\n",
        "objective_fn         \t |  285.251101444\n",
        "centroids            \t |  [[1.0, 3.0, 1.673809517, 9.06999999001, 1.32095237289, 1.79333332039], [1.0, 1.57692307692, 2.757115387, 5.62903844393, 1.65884615252, 2.56576922994], [1.0, 2.0, 2.77145454233, 2.96581817107, 1.56581818028, 2.20527272441]]\n",
        "frac_reassigned      \t |  0.0\n",
        "----------------------------------------------------------------------------------------------------------------------------------------------------------------\n",
        "\n",
        "\n",
        "\n",
        "KMeans Plus Plus \n",
        "\n",
        "statement : \n",
        "                          select * from madlib.kmeans_random(\n",
        "                                                             'public.wine_bool_training_set',\n",
        "                                                             'indep',\n",
        "                                                             3,\n",
        "                                                             'madlib.squared_dist_norm2',\n",
        "                                                             'madlib.avg',\n",
        "                                                             20,\n",
        "                                                             0.001\n",
        "                                                             );                                                       \n",
        "                       \n",
        "\n",
        "\n",
        "----------------------------------------------------------------------------------------------------------------------------------------------------------------"
       ]
      },
      {
       "output_type": "stream",
       "stream": "stdout",
       "text": [
        "\n",
        "             Model Parameters\n",
        "----------------------------------------------------------------------------------------------------------------------------------------------------------------\n",
        "num_iterations       \t |  7\n",
        "objective_fn         \t |  292.842264034\n",
        "centroids            \t |  [[1.0, 2.15714285714, 2.59914285626, 3.43871427264, 1.44585713957, 2.09742856707], [1.0, 1.10810810811, 3.07729729768, 5.81405403807, 1.92351351558, 2.91594594878], [1.0, 3.0, 1.673809517, 9.06999999001, 1.32095237289, 1.79333332039]]\n",
        "frac_reassigned      \t |  0.0\n",
        "----------------------------------------------------------------------------------------------------------------------------------------------------------------\n",
        "\n"
       ]
      }
     ],
     "prompt_number": 10
    },
    {
     "cell_type": "code",
     "collapsed": false,
     "input": [],
     "language": "python",
     "metadata": {},
     "outputs": []
    }
   ],
   "metadata": {}
  }
 ]
}